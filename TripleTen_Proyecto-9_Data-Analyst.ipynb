{
 "cells": [
  {
   "cell_type": "markdown",
   "metadata": {},
   "source": [
    "# Proyecto: Análisis de Test A/B para Incrementar los Ingresos en una Tienda en Línea"
   ]
  },
  {
   "cell_type": "markdown",
   "metadata": {},
   "source": [
    "## Introducción"
   ]
  },
  {
   "cell_type": "markdown",
   "metadata": {},
   "source": [
    "En el actual panorama del comercio electrónico, la optimización de los ingresos es fundamental para el éxito de cualquier tienda en línea. En este proyecto, nos enfrentamos al desafío de aumentar los ingresos de una gran tienda en línea mediante la aplicación de pruebas A/B y el análisis de datos.\n",
    "\n",
    "La primera parte del proyecto se centra en la priorización de hipótesis. Utilizaremos dos marcos de trabajo, ICE y RICE, para evaluar y clasificar las hipótesis propuestas por el departamento de marketing. Esto nos permitirá identificar las ideas con mayor potencial de impacto y menor esfuerzo, lo que orientará nuestras acciones futuras.\n",
    "\n",
    "En la segunda parte del proyecto, haremos el análisis de un test A/B realizado para validar algunas de las hipótesis priorizadas. Utilizaremos conjuntos de datos que registran transacciones de clientes y visitas al sitio web durante el período de prueba. Mediante el análisis de estos datos, exploraremos la efectividad de las estrategias implementadas y evaluaremos su impacto en los ingresos.\n",
    "\n",
    "A lo largo del proyecto, emplearemos técnicas estadísticas y visualizaciones de datos para extraer insights significativos. Al final, nuestras conclusiones y recomendaciones estarán respaldadas por un análisis riguroso y fundamentado en datos concretos.\n",
    "\n",
    "¡Comencemos este viaje hacia la optimización de ingresos en el comercio electrónico!"
   ]
  },
  {
   "cell_type": "markdown",
   "metadata": {},
   "source": [
    "### Importación de librerías"
   ]
  },
  {
   "cell_type": "code",
   "execution_count": 1,
   "metadata": {},
   "outputs": [],
   "source": [
    "# Importación de librerías\n",
    "import pandas as pd\n",
    "import numpy as np\n",
    "import scipy.stats as stats\n",
    "import matplotlib.pyplot as plt\n",
    "import matplotlib.dates as mdates\n",
    "import seaborn as sns"
   ]
  },
  {
   "cell_type": "markdown",
   "metadata": {},
   "source": [
    "### Cargar Datos"
   ]
  },
  {
   "cell_type": "code",
   "execution_count": 2,
   "metadata": {},
   "outputs": [],
   "source": [
    "# Carga de los conjuntos de datos\n",
    "hypotheses = pd.read_csv('/datasets/hypotheses_us.csv', delimiter=';')\n",
    "orders = pd.read_csv('/datasets/orders_us.csv')\n",
    "visits = pd.read_csv('/datasets/visits_us.csv')\n"
   ]
  },
  {
   "cell_type": "markdown",
   "metadata": {},
   "source": [
    "### Exploración de datos"
   ]
  },
  {
   "cell_type": "code",
   "execution_count": 3,
   "metadata": {},
   "outputs": [
    {
     "name": "stdout",
     "output_type": "stream",
     "text": [
      "Exploración de datos para 'hypotheses':\n",
      "Información general del conjunto de datos:\n",
      "<class 'pandas.core.frame.DataFrame'>\n",
      "RangeIndex: 9 entries, 0 to 8\n",
      "Data columns (total 5 columns):\n",
      " #   Column      Non-Null Count  Dtype \n",
      "---  ------      --------------  ----- \n",
      " 0   Hypothesis  9 non-null      object\n",
      " 1   Reach       9 non-null      int64 \n",
      " 2   Impact      9 non-null      int64 \n",
      " 3   Confidence  9 non-null      int64 \n",
      " 4   Effort      9 non-null      int64 \n",
      "dtypes: int64(4), object(1)\n",
      "memory usage: 488.0+ bytes\n",
      "None\n",
      "\n",
      "Primeras cinco filas:\n",
      "                                          Hypothesis  Reach  Impact  \\\n",
      "0  Add two new channels for attracting traffic. T...      3      10   \n",
      "1  Launch your own delivery service. This will sh...      2       5   \n",
      "2  Add product recommendation blocks to the store...      8       3   \n",
      "3  Change the category structure. This will incre...      8       3   \n",
      "4  Change the background color on the main page. ...      3       1   \n",
      "\n",
      "   Confidence  Effort  \n",
      "0           8       6  \n",
      "1           4      10  \n",
      "2           7       3  \n",
      "3           3       8  \n",
      "4           1       1  \n",
      "\n",
      "Descripción del conjunto de datos:\n",
      "           Reach     Impact  Confidence     Effort\n",
      "count   9.000000   9.000000    9.000000   9.000000\n",
      "mean    4.777778   4.777778    5.555556   4.888889\n",
      "std     3.153481   3.192874    3.045944   2.803767\n",
      "min     1.000000   1.000000    1.000000   1.000000\n",
      "25%     3.000000   3.000000    3.000000   3.000000\n",
      "50%     3.000000   3.000000    7.000000   5.000000\n",
      "75%     8.000000   7.000000    8.000000   6.000000\n",
      "max    10.000000  10.000000    9.000000  10.000000\n",
      "\n",
      "Este conjunto de datos tiene 0 duplicados.\n",
      "\n",
      "¿Cuántos valores faltantes tiene este conjunto de datos?\n",
      "Hypothesis    0\n",
      "Reach         0\n",
      "Impact        0\n",
      "Confidence    0\n",
      "Effort        0\n",
      "dtype: int64\n",
      "\n",
      "¿Cuál es el porcentaje de valores faltantes?\n",
      "Hypothesis    0.0\n",
      "Reach         0.0\n",
      "Impact        0.0\n",
      "Confidence    0.0\n",
      "Effort        0.0\n",
      "dtype: float64\n",
      "\n",
      "Exploración de datos para 'orders':\n",
      "Información general del conjunto de datos:\n",
      "<class 'pandas.core.frame.DataFrame'>\n",
      "RangeIndex: 1197 entries, 0 to 1196\n",
      "Data columns (total 5 columns):\n",
      " #   Column         Non-Null Count  Dtype  \n",
      "---  ------         --------------  -----  \n",
      " 0   transactionId  1197 non-null   int64  \n",
      " 1   visitorId      1197 non-null   int64  \n",
      " 2   date           1197 non-null   object \n",
      " 3   revenue        1197 non-null   float64\n",
      " 4   group          1197 non-null   object \n",
      "dtypes: float64(1), int64(2), object(2)\n",
      "memory usage: 46.9+ KB\n",
      "None\n",
      "\n",
      "Primeras cinco filas:\n",
      "   transactionId   visitorId        date  revenue group\n",
      "0     3667963787  3312258926  2019-08-15     30.4     B\n",
      "1     2804400009  3642806036  2019-08-15     15.2     B\n",
      "2     2961555356  4069496402  2019-08-15     10.2     A\n",
      "3     3797467345  1196621759  2019-08-15    155.1     B\n",
      "4     2282983706  2322279887  2019-08-15     40.5     B\n",
      "\n",
      "Descripción del conjunto de datos:\n",
      "       transactionId     visitorId       revenue\n",
      "count   1.197000e+03  1.197000e+03   1197.000000\n",
      "mean    2.155621e+09  2.165960e+09    131.491646\n",
      "std     1.229085e+09  1.236014e+09    603.004729\n",
      "min     1.062393e+06  5.114589e+06      5.000000\n",
      "25%     1.166776e+09  1.111826e+09     20.800000\n",
      "50%     2.145194e+09  2.217985e+09     50.200000\n",
      "75%     3.237740e+09  3.177606e+09    130.400000\n",
      "max     4.293856e+09  4.283872e+09  19920.400000\n",
      "\n",
      "Este conjunto de datos tiene 0 duplicados.\n",
      "\n",
      "¿Cuántos valores faltantes tiene este conjunto de datos?\n",
      "transactionId    0\n",
      "visitorId        0\n",
      "date             0\n",
      "revenue          0\n",
      "group            0\n",
      "dtype: int64\n",
      "\n",
      "¿Cuál es el porcentaje de valores faltantes?\n",
      "transactionId    0.0\n",
      "visitorId        0.0\n",
      "date             0.0\n",
      "revenue          0.0\n",
      "group            0.0\n",
      "dtype: float64\n",
      "\n",
      "Exploración de datos para 'visits':\n",
      "Información general del conjunto de datos:\n",
      "<class 'pandas.core.frame.DataFrame'>\n",
      "RangeIndex: 62 entries, 0 to 61\n",
      "Data columns (total 3 columns):\n",
      " #   Column  Non-Null Count  Dtype \n",
      "---  ------  --------------  ----- \n",
      " 0   date    62 non-null     object\n",
      " 1   group   62 non-null     object\n",
      " 2   visits  62 non-null     int64 \n",
      "dtypes: int64(1), object(2)\n",
      "memory usage: 1.6+ KB\n",
      "None\n",
      "\n",
      "Primeras cinco filas:\n",
      "         date group  visits\n",
      "0  2019-08-01     A     719\n",
      "1  2019-08-02     A     619\n",
      "2  2019-08-03     A     507\n",
      "3  2019-08-04     A     717\n",
      "4  2019-08-05     A     756\n",
      "\n",
      "Descripción del conjunto de datos:\n",
      "           visits\n",
      "count   62.000000\n",
      "mean   607.290323\n",
      "std    114.400560\n",
      "min    361.000000\n",
      "25%    534.000000\n",
      "50%    624.500000\n",
      "75%    710.500000\n",
      "max    770.000000\n",
      "\n",
      "Este conjunto de datos tiene 0 duplicados.\n",
      "\n",
      "¿Cuántos valores faltantes tiene este conjunto de datos?\n",
      "date      0\n",
      "group     0\n",
      "visits    0\n",
      "dtype: int64\n",
      "\n",
      "¿Cuál es el porcentaje de valores faltantes?\n",
      "date      0.0\n",
      "group     0.0\n",
      "visits    0.0\n",
      "dtype: float64\n",
      "\n"
     ]
    }
   ],
   "source": [
    "def explorar_datos(datos, nombre):\n",
    "    \"\"\"Esta función proporciona información general sobre un conjunto de datos.\n",
    "    \n",
    "    Args:\n",
    "    datos (DataFrame): El conjunto de datos a explorar.\n",
    "    nombre (str): El nombre del conjunto de datos.\n",
    "    \"\"\"\n",
    "    print(f\"Exploración de datos para '{nombre}':\")\n",
    "    # Información general\n",
    "    print('Información general del conjunto de datos:')\n",
    "    print(datos.info())\n",
    "    print()\n",
    "    # Primeras filas\n",
    "    print('Primeras cinco filas:')\n",
    "    print(datos.head())\n",
    "    print()\n",
    "    # Descripción\n",
    "    print('Descripción del conjunto de datos:')\n",
    "    print(datos.describe())\n",
    "    print()\n",
    "    # Duplicados y valores faltantes\n",
    "    print(f\"Este conjunto de datos tiene {datos.duplicated().sum()} duplicados.\")\n",
    "    print()\n",
    "    print('¿Cuántos valores faltantes tiene este conjunto de datos?')\n",
    "    missing_values = datos.isna().sum()\n",
    "    print(missing_values)\n",
    "    print()\n",
    "    # Porcentaje de valores faltantes\n",
    "    print('¿Cuál es el porcentaje de valores faltantes?')\n",
    "    print(missing_values / len(datos) * 100)\n",
    "    print()\n",
    "\n",
    "# Exploración de datos\n",
    "explorar_datos(hypotheses, 'hypotheses')\n",
    "explorar_datos(orders, 'orders')\n",
    "explorar_datos(visits, 'visits')\n"
   ]
  },
  {
   "cell_type": "markdown",
   "metadata": {},
   "source": [
    "La exploración de datos revela información valiosa sobre los tres conjuntos de datos utilizados en el proyecto. Comencemos con las hipótesis. Este conjunto de datos consta de nueve hipótesis distintas, cada una descrita con un nivel de alcance, impacto, confianza y esfuerzo. No se encontraron valores faltantes en este conjunto de datos, lo que indica una integridad completa de los datos. Sin embargo, es importante destacar que las hipótesis varían considerablemente en términos de su potencial de impacto y la dificultad percibida para implementarlas, lo que sugiere que algunas podrían ser más prometedoras que otras en términos de rentabilidad y factibilidad.\n",
    "\n",
    "Pasando al conjunto de datos de órdenes, se observa que contiene 1197 entradas que registran información sobre las transacciones, como el ID de transacción, el ID del visitante, la fecha de la transacción, los ingresos generados y el grupo de prueba A/B al que pertenece el visitante. Nuevamente, no se encontraron valores faltantes y no hay duplicados, lo que indica una calidad de datos sólida. Además, se observa una amplia gama de ingresos generados por las transacciones, con una media de alrededor de 131.49, lo que sugiere una variabilidad considerable en el comportamiento de compra de los visitantes.\n",
    "\n",
    "Por último, el conjunto de datos de visitas consta de 62 entradas que registran el número de visitas para cada día y grupo de prueba A/B. Al igual que los conjuntos de datos anteriores, no se encontraron valores faltantes y no hay duplicados presentes. Aquí, se observa que el número de visitas varía entre 361 y 770, con una media de aproximadamente 607.29, lo que indica una cantidad considerable de tráfico que puede influir en los resultados del test A/B.\n",
    "\n",
    "En resumen, la exploración de datos proporciona una visión general sólida de los conjuntos de datos utilizados en el proyecto, estableciendo una base sólida para el análisis y la toma de decisiones subsiguientes."
   ]
  },
  {
   "cell_type": "markdown",
   "metadata": {},
   "source": [
    "### Corrección de tipos de datos"
   ]
  },
  {
   "cell_type": "code",
   "execution_count": 4,
   "metadata": {},
   "outputs": [
    {
     "name": "stdout",
     "output_type": "stream",
     "text": [
      "Nombres de columnas en 'hypotheses' después de la preparación:\n",
      "Index(['hypothesis', 'reach', 'impact', 'confidence', 'effort'], dtype='object')\n",
      "\n",
      "Tipos de datos en 'hypotheses' después de la preparación:\n",
      "hypothesis    object\n",
      "reach          int64\n",
      "impact         int64\n",
      "confidence     int64\n",
      "effort         int64\n",
      "dtype: object\n",
      "\n",
      "Nombres de columnas en 'orders' después de la preparación:\n",
      "Index(['transaction_id', 'visitor_id', 'date', 'revenue', 'group'], dtype='object')\n",
      "\n",
      "Tipos de datos en 'orders' después de la preparación:\n",
      "transaction_id             int64\n",
      "visitor_id                 int64\n",
      "date              datetime64[ns]\n",
      "revenue                  float64\n",
      "group                     object\n",
      "dtype: object\n",
      "\n",
      "Nombres de columnas en 'visits' después de la preparación:\n",
      "Index(['date', 'group', 'visits'], dtype='object')\n",
      "\n",
      "Tipos de datos en 'visits' después de la preparación:\n",
      "date      datetime64[ns]\n",
      "group             object\n",
      "visits             int64\n",
      "dtype: object\n"
     ]
    }
   ],
   "source": [
    "import pandas as pd\n",
    "\n",
    "def preparar_datos(datos, columnas_fecha):\n",
    "    \"\"\"Esta función prepara los datos realizando las siguientes operaciones:\n",
    "    - Convierte los nombres de las columnas a minúsculas.\n",
    "    - Cambia los espacios en los nombres de las columnas por guiones bajos.\n",
    "    - Convierte las columnas de fecha al tipo datetime.\n",
    "    - Verifica la presencia de duplicados en el DataFrame.\n",
    "    \n",
    "    Args:\n",
    "    datos (DataFrame): El conjunto de datos a procesar.\n",
    "    columnas_fecha (list): Una lista de nombres de columnas que contienen datos de fecha.\n",
    "    \n",
    "    Returns:\n",
    "    DataFrame: El conjunto de datos procesado.\n",
    "    \"\"\"\n",
    "    # Convertir nombres de columnas a minúsculas y cambiar espacios por guiones bajos\n",
    "    datos.columns = datos.columns.str.lower().str.replace(' ', '_')\n",
    "    \n",
    "    # Convertir columnas de fecha a tipo datetime\n",
    "    for columna in columnas_fecha:\n",
    "        try:\n",
    "            datos[columna] = pd.to_datetime(datos[columna])\n",
    "        except Exception as e:\n",
    "            print(f\"Error al convertir la columna {columna}: {str(e)}\")\n",
    "    \n",
    "    # Verificar duplicados\n",
    "    if datos.duplicated().any():\n",
    "        print(\"¡Advertencia! Se encontraron duplicados en el DataFrame.\")\n",
    "    \n",
    "    # Corregir nombres de columnas si es 'orders'\n",
    "    if 'transactionid' in datos.columns:\n",
    "        datos.rename(columns={'transactionid': 'transaction_id', 'visitorid': 'visitor_id'}, inplace=True)\n",
    "    \n",
    "    return datos\n",
    "\n",
    "# Lista de columnas que contienen datos de fecha\n",
    "columnas_fecha_hypotheses = []  # No hay columnas de fecha en este conjunto de datos\n",
    "columnas_fecha_orders = ['date']\n",
    "columnas_fecha_visits = ['date']\n",
    "\n",
    "# Aplicar la función a cada conjunto de datos\n",
    "hypotheses = preparar_datos(hypotheses, columnas_fecha_hypotheses)\n",
    "orders = preparar_datos(orders, columnas_fecha_orders)\n",
    "visits = preparar_datos(visits, columnas_fecha_visits)\n",
    "\n",
    "# Verificar los nombres de columnas y los tipos de datos actualizados\n",
    "print(\"Nombres de columnas en 'hypotheses' después de la preparación:\")\n",
    "print(hypotheses.columns)\n",
    "print(\"\\nTipos de datos en 'hypotheses' después de la preparación:\")\n",
    "print(hypotheses.dtypes)\n",
    "\n",
    "print(\"\\nNombres de columnas en 'orders' después de la preparación:\")\n",
    "print(orders.columns)\n",
    "print(\"\\nTipos de datos en 'orders' después de la preparación:\")\n",
    "print(orders.dtypes)\n",
    "\n",
    "print(\"\\nNombres de columnas en 'visits' después de la preparación:\")\n",
    "print(visits.columns)\n",
    "print(\"\\nTipos de datos en 'visits' después de la preparación:\")\n",
    "print(visits.dtypes)\n"
   ]
  },
  {
   "cell_type": "markdown",
   "metadata": {},
   "source": [
    "La función preparar_datos se aplicó para limpiar y preparar los conjuntos de datos 'hypotheses', 'orders' y 'visits'. Se han realizado varias operaciones durante el proceso, que incluyen la conversión de nombres de columnas a minúsculas y eliminación de espacios, la conversión de columnas de fecha al tipo datetime, y la verificación de duplicados en los DataFrames. Además, se corrigieron los nombres de columnas en el DataFrame 'orders' para seguir una convención de nomenclatura más consistente. Los tipos de datos han sido ajustados adecuadamente en cada DataFrame"
   ]
  },
  {
   "cell_type": "markdown",
   "metadata": {},
   "source": [
    "## Priorización de Hipótesis\n",
    "\n",
    "En la etapa de Priorización de Hipótesis, utilizaremos dos frameworks distintos: ICE y RICE. Primero, aplicaremos el framework ICE, que evalúa el Impacto, la Confianza y el Esfuerzo de cada hipótesis. Luego, ordenaremos las hipótesis en orden descendente de prioridad según su puntaje ICE. Después, aplicaremos el framework RICE, que añade el componente de Alcance (Reach) a la evaluación. Esto nos permitirá considerar cuántos usuarios se verán afectados por cada hipótesis. Ordenaremos las hipótesis en orden descendente de prioridad según su puntaje RICE. Finalmente, compararemos ambas priorizaciones para entender cómo difieren en la importancia asignada a cada hipótesis y explicaremos los cambios en la priorización."
   ]
  },
  {
   "cell_type": "code",
   "execution_count": 5,
   "metadata": {},
   "outputs": [
    {
     "data": {
      "text/html": [
       "<div>\n",
       "<style scoped>\n",
       "    .dataframe tbody tr th:only-of-type {\n",
       "        vertical-align: middle;\n",
       "    }\n",
       "\n",
       "    .dataframe tbody tr th {\n",
       "        vertical-align: top;\n",
       "    }\n",
       "\n",
       "    .dataframe thead th {\n",
       "        text-align: right;\n",
       "    }\n",
       "</style>\n",
       "<table border=\"1\" class=\"dataframe\">\n",
       "  <thead>\n",
       "    <tr style=\"text-align: right;\">\n",
       "      <th></th>\n",
       "      <th>hypothesis</th>\n",
       "      <th>reach</th>\n",
       "      <th>impact</th>\n",
       "      <th>confidence</th>\n",
       "      <th>effort</th>\n",
       "    </tr>\n",
       "  </thead>\n",
       "  <tbody>\n",
       "    <tr>\n",
       "      <th>0</th>\n",
       "      <td>Add two new channels for attracting traffic. T...</td>\n",
       "      <td>3</td>\n",
       "      <td>10</td>\n",
       "      <td>8</td>\n",
       "      <td>6</td>\n",
       "    </tr>\n",
       "    <tr>\n",
       "      <th>1</th>\n",
       "      <td>Launch your own delivery service. This will sh...</td>\n",
       "      <td>2</td>\n",
       "      <td>5</td>\n",
       "      <td>4</td>\n",
       "      <td>10</td>\n",
       "    </tr>\n",
       "    <tr>\n",
       "      <th>2</th>\n",
       "      <td>Add product recommendation blocks to the store...</td>\n",
       "      <td>8</td>\n",
       "      <td>3</td>\n",
       "      <td>7</td>\n",
       "      <td>3</td>\n",
       "    </tr>\n",
       "    <tr>\n",
       "      <th>3</th>\n",
       "      <td>Change the category structure. This will incre...</td>\n",
       "      <td>8</td>\n",
       "      <td>3</td>\n",
       "      <td>3</td>\n",
       "      <td>8</td>\n",
       "    </tr>\n",
       "    <tr>\n",
       "      <th>4</th>\n",
       "      <td>Change the background color on the main page. ...</td>\n",
       "      <td>3</td>\n",
       "      <td>1</td>\n",
       "      <td>1</td>\n",
       "      <td>1</td>\n",
       "    </tr>\n",
       "    <tr>\n",
       "      <th>5</th>\n",
       "      <td>Add a customer review page. This will increase...</td>\n",
       "      <td>3</td>\n",
       "      <td>2</td>\n",
       "      <td>2</td>\n",
       "      <td>3</td>\n",
       "    </tr>\n",
       "    <tr>\n",
       "      <th>6</th>\n",
       "      <td>Show banners with current offers and sales on ...</td>\n",
       "      <td>5</td>\n",
       "      <td>3</td>\n",
       "      <td>8</td>\n",
       "      <td>3</td>\n",
       "    </tr>\n",
       "    <tr>\n",
       "      <th>7</th>\n",
       "      <td>Add a subscription form to all the main pages....</td>\n",
       "      <td>10</td>\n",
       "      <td>7</td>\n",
       "      <td>8</td>\n",
       "      <td>5</td>\n",
       "    </tr>\n",
       "    <tr>\n",
       "      <th>8</th>\n",
       "      <td>Launch a promotion that gives users discounts ...</td>\n",
       "      <td>1</td>\n",
       "      <td>9</td>\n",
       "      <td>9</td>\n",
       "      <td>5</td>\n",
       "    </tr>\n",
       "  </tbody>\n",
       "</table>\n",
       "</div>"
      ],
      "text/plain": [
       "                                          hypothesis  reach  impact  \\\n",
       "0  Add two new channels for attracting traffic. T...      3      10   \n",
       "1  Launch your own delivery service. This will sh...      2       5   \n",
       "2  Add product recommendation blocks to the store...      8       3   \n",
       "3  Change the category structure. This will incre...      8       3   \n",
       "4  Change the background color on the main page. ...      3       1   \n",
       "5  Add a customer review page. This will increase...      3       2   \n",
       "6  Show banners with current offers and sales on ...      5       3   \n",
       "7  Add a subscription form to all the main pages....     10       7   \n",
       "8  Launch a promotion that gives users discounts ...      1       9   \n",
       "\n",
       "   confidence  effort  \n",
       "0           8       6  \n",
       "1           4      10  \n",
       "2           7       3  \n",
       "3           3       8  \n",
       "4           1       1  \n",
       "5           2       3  \n",
       "6           8       3  \n",
       "7           8       5  \n",
       "8           9       5  "
      ]
     },
     "execution_count": 5,
     "metadata": {},
     "output_type": "execute_result"
    }
   ],
   "source": [
    "# Impresión de las hipótesis\n",
    "hypotheses"
   ]
  },
  {
   "cell_type": "markdown",
   "metadata": {},
   "source": [
    "### Aplicación del Framework ICE"
   ]
  },
  {
   "cell_type": "code",
   "execution_count": 6,
   "metadata": {
    "scrolled": true
   },
   "outputs": [
    {
     "name": "stdout",
     "output_type": "stream",
     "text": [
      "Hipótesis ordenadas por prioridad según ICE:\n"
     ]
    },
    {
     "data": {
      "text/html": [
       "<div>\n",
       "<style scoped>\n",
       "    .dataframe tbody tr th:only-of-type {\n",
       "        vertical-align: middle;\n",
       "    }\n",
       "\n",
       "    .dataframe tbody tr th {\n",
       "        vertical-align: top;\n",
       "    }\n",
       "\n",
       "    .dataframe thead th {\n",
       "        text-align: right;\n",
       "    }\n",
       "</style>\n",
       "<table border=\"1\" class=\"dataframe\">\n",
       "  <thead>\n",
       "    <tr style=\"text-align: right;\">\n",
       "      <th></th>\n",
       "      <th>hypothesis</th>\n",
       "      <th>impact</th>\n",
       "      <th>confidence</th>\n",
       "      <th>effort</th>\n",
       "      <th>ICE</th>\n",
       "    </tr>\n",
       "  </thead>\n",
       "  <tbody>\n",
       "    <tr>\n",
       "      <th>8</th>\n",
       "      <td>Launch a promotion that gives users discounts ...</td>\n",
       "      <td>9</td>\n",
       "      <td>9</td>\n",
       "      <td>5</td>\n",
       "      <td>16.200000</td>\n",
       "    </tr>\n",
       "    <tr>\n",
       "      <th>0</th>\n",
       "      <td>Add two new channels for attracting traffic. T...</td>\n",
       "      <td>10</td>\n",
       "      <td>8</td>\n",
       "      <td>6</td>\n",
       "      <td>13.333333</td>\n",
       "    </tr>\n",
       "    <tr>\n",
       "      <th>7</th>\n",
       "      <td>Add a subscription form to all the main pages....</td>\n",
       "      <td>7</td>\n",
       "      <td>8</td>\n",
       "      <td>5</td>\n",
       "      <td>11.200000</td>\n",
       "    </tr>\n",
       "    <tr>\n",
       "      <th>6</th>\n",
       "      <td>Show banners with current offers and sales on ...</td>\n",
       "      <td>3</td>\n",
       "      <td>8</td>\n",
       "      <td>3</td>\n",
       "      <td>8.000000</td>\n",
       "    </tr>\n",
       "    <tr>\n",
       "      <th>2</th>\n",
       "      <td>Add product recommendation blocks to the store...</td>\n",
       "      <td>3</td>\n",
       "      <td>7</td>\n",
       "      <td>3</td>\n",
       "      <td>7.000000</td>\n",
       "    </tr>\n",
       "    <tr>\n",
       "      <th>1</th>\n",
       "      <td>Launch your own delivery service. This will sh...</td>\n",
       "      <td>5</td>\n",
       "      <td>4</td>\n",
       "      <td>10</td>\n",
       "      <td>2.000000</td>\n",
       "    </tr>\n",
       "    <tr>\n",
       "      <th>5</th>\n",
       "      <td>Add a customer review page. This will increase...</td>\n",
       "      <td>2</td>\n",
       "      <td>2</td>\n",
       "      <td>3</td>\n",
       "      <td>1.333333</td>\n",
       "    </tr>\n",
       "    <tr>\n",
       "      <th>3</th>\n",
       "      <td>Change the category structure. This will incre...</td>\n",
       "      <td>3</td>\n",
       "      <td>3</td>\n",
       "      <td>8</td>\n",
       "      <td>1.125000</td>\n",
       "    </tr>\n",
       "    <tr>\n",
       "      <th>4</th>\n",
       "      <td>Change the background color on the main page. ...</td>\n",
       "      <td>1</td>\n",
       "      <td>1</td>\n",
       "      <td>1</td>\n",
       "      <td>1.000000</td>\n",
       "    </tr>\n",
       "  </tbody>\n",
       "</table>\n",
       "</div>"
      ],
      "text/plain": [
       "                                          hypothesis  impact  confidence  \\\n",
       "8  Launch a promotion that gives users discounts ...       9           9   \n",
       "0  Add two new channels for attracting traffic. T...      10           8   \n",
       "7  Add a subscription form to all the main pages....       7           8   \n",
       "6  Show banners with current offers and sales on ...       3           8   \n",
       "2  Add product recommendation blocks to the store...       3           7   \n",
       "1  Launch your own delivery service. This will sh...       5           4   \n",
       "5  Add a customer review page. This will increase...       2           2   \n",
       "3  Change the category structure. This will incre...       3           3   \n",
       "4  Change the background color on the main page. ...       1           1   \n",
       "\n",
       "   effort        ICE  \n",
       "8       5  16.200000  \n",
       "0       6  13.333333  \n",
       "7       5  11.200000  \n",
       "6       3   8.000000  \n",
       "2       3   7.000000  \n",
       "1      10   2.000000  \n",
       "5       3   1.333333  \n",
       "3       8   1.125000  \n",
       "4       1   1.000000  "
      ]
     },
     "metadata": {},
     "output_type": "display_data"
    }
   ],
   "source": [
    "def calcular_ice(impact, confidence, effort):\n",
    "    \"\"\"\n",
    "    Calcula el puntaje ICE para cada hipótesis.\n",
    "    \"\"\"\n",
    "    return (impact * confidence) / effort\n",
    "\n",
    "# Calcular ICE para cada hipótesis\n",
    "hypotheses['ICE'] = calcular_ice(hypotheses['impact'], hypotheses['confidence'], hypotheses['effort'])\n",
    "\n",
    "# Ordenar las hipótesis en orden descendente de prioridad según ICE\n",
    "hypotheses_ice_sorted = hypotheses.sort_values(by='ICE', ascending=False)\n",
    "\n",
    "# Mostrar el resultado\n",
    "print(\"Hipótesis ordenadas por prioridad según ICE:\")\n",
    "display(hypotheses_ice_sorted[['hypothesis', 'impact', 'confidence', 'effort', 'ICE']])\n",
    "\n"
   ]
  },
  {
   "cell_type": "markdown",
   "metadata": {},
   "source": [
    "Las hipótesis están ordenadas por prioridad según ICE, donde las primeras hipótesis tienen puntajes ICE más altos, lo que indica una mayor prioridad. La hipótesis con el puntaje ICE más alto es \"Launch a promotion that gives users discounts on their birthdays\" con un puntaje de 16.20, seguida de \"Add two new channels for attracting traffic\" con un puntaje de 13.33 y \"Add a subscription form to all the main pages\" con un puntaje de 11.20. Por otro lado, las hipótesis con puntajes ICE más bajos son \"Launch your own delivery service\" con un puntaje de 2.00 y \"Add a customer review page\" con un puntaje de 1.33, lo que sugiere una menor prioridad en comparación con las demás hipótesis. Este análisis permite identificar las estrategias con mayor potencial de impacto y menor esfuerzo, lo que orienta la toma de decisiones en la implementación de mejoras en el sitio web."
   ]
  },
  {
   "cell_type": "markdown",
   "metadata": {},
   "source": [
    "### Aplicación del Framework RICE\n",
    "Aplicar el framework RICE para priorizar hipótesis.\n",
    "Ordenar las hipótesis en orden descendente de prioridad según RICE."
   ]
  },
  {
   "cell_type": "code",
   "execution_count": 7,
   "metadata": {},
   "outputs": [
    {
     "name": "stdout",
     "output_type": "stream",
     "text": [
      "Hipótesis ordenadas por prioridad según RICE:\n"
     ]
    },
    {
     "data": {
      "text/html": [
       "<div>\n",
       "<style scoped>\n",
       "    .dataframe tbody tr th:only-of-type {\n",
       "        vertical-align: middle;\n",
       "    }\n",
       "\n",
       "    .dataframe tbody tr th {\n",
       "        vertical-align: top;\n",
       "    }\n",
       "\n",
       "    .dataframe thead th {\n",
       "        text-align: right;\n",
       "    }\n",
       "</style>\n",
       "<table border=\"1\" class=\"dataframe\">\n",
       "  <thead>\n",
       "    <tr style=\"text-align: right;\">\n",
       "      <th></th>\n",
       "      <th>hypothesis</th>\n",
       "      <th>reach</th>\n",
       "      <th>impact</th>\n",
       "      <th>confidence</th>\n",
       "      <th>effort</th>\n",
       "      <th>RICE</th>\n",
       "    </tr>\n",
       "  </thead>\n",
       "  <tbody>\n",
       "    <tr>\n",
       "      <th>7</th>\n",
       "      <td>Add a subscription form to all the main pages....</td>\n",
       "      <td>10</td>\n",
       "      <td>7</td>\n",
       "      <td>8</td>\n",
       "      <td>5</td>\n",
       "      <td>112.0</td>\n",
       "    </tr>\n",
       "    <tr>\n",
       "      <th>2</th>\n",
       "      <td>Add product recommendation blocks to the store...</td>\n",
       "      <td>8</td>\n",
       "      <td>3</td>\n",
       "      <td>7</td>\n",
       "      <td>3</td>\n",
       "      <td>56.0</td>\n",
       "    </tr>\n",
       "    <tr>\n",
       "      <th>0</th>\n",
       "      <td>Add two new channels for attracting traffic. T...</td>\n",
       "      <td>3</td>\n",
       "      <td>10</td>\n",
       "      <td>8</td>\n",
       "      <td>6</td>\n",
       "      <td>40.0</td>\n",
       "    </tr>\n",
       "    <tr>\n",
       "      <th>6</th>\n",
       "      <td>Show banners with current offers and sales on ...</td>\n",
       "      <td>5</td>\n",
       "      <td>3</td>\n",
       "      <td>8</td>\n",
       "      <td>3</td>\n",
       "      <td>40.0</td>\n",
       "    </tr>\n",
       "    <tr>\n",
       "      <th>8</th>\n",
       "      <td>Launch a promotion that gives users discounts ...</td>\n",
       "      <td>1</td>\n",
       "      <td>9</td>\n",
       "      <td>9</td>\n",
       "      <td>5</td>\n",
       "      <td>16.2</td>\n",
       "    </tr>\n",
       "    <tr>\n",
       "      <th>3</th>\n",
       "      <td>Change the category structure. This will incre...</td>\n",
       "      <td>8</td>\n",
       "      <td>3</td>\n",
       "      <td>3</td>\n",
       "      <td>8</td>\n",
       "      <td>9.0</td>\n",
       "    </tr>\n",
       "    <tr>\n",
       "      <th>1</th>\n",
       "      <td>Launch your own delivery service. This will sh...</td>\n",
       "      <td>2</td>\n",
       "      <td>5</td>\n",
       "      <td>4</td>\n",
       "      <td>10</td>\n",
       "      <td>4.0</td>\n",
       "    </tr>\n",
       "    <tr>\n",
       "      <th>5</th>\n",
       "      <td>Add a customer review page. This will increase...</td>\n",
       "      <td>3</td>\n",
       "      <td>2</td>\n",
       "      <td>2</td>\n",
       "      <td>3</td>\n",
       "      <td>4.0</td>\n",
       "    </tr>\n",
       "    <tr>\n",
       "      <th>4</th>\n",
       "      <td>Change the background color on the main page. ...</td>\n",
       "      <td>3</td>\n",
       "      <td>1</td>\n",
       "      <td>1</td>\n",
       "      <td>1</td>\n",
       "      <td>3.0</td>\n",
       "    </tr>\n",
       "  </tbody>\n",
       "</table>\n",
       "</div>"
      ],
      "text/plain": [
       "                                          hypothesis  reach  impact  \\\n",
       "7  Add a subscription form to all the main pages....     10       7   \n",
       "2  Add product recommendation blocks to the store...      8       3   \n",
       "0  Add two new channels for attracting traffic. T...      3      10   \n",
       "6  Show banners with current offers and sales on ...      5       3   \n",
       "8  Launch a promotion that gives users discounts ...      1       9   \n",
       "3  Change the category structure. This will incre...      8       3   \n",
       "1  Launch your own delivery service. This will sh...      2       5   \n",
       "5  Add a customer review page. This will increase...      3       2   \n",
       "4  Change the background color on the main page. ...      3       1   \n",
       "\n",
       "   confidence  effort   RICE  \n",
       "7           8       5  112.0  \n",
       "2           7       3   56.0  \n",
       "0           8       6   40.0  \n",
       "6           8       3   40.0  \n",
       "8           9       5   16.2  \n",
       "3           3       8    9.0  \n",
       "1           4      10    4.0  \n",
       "5           2       3    4.0  \n",
       "4           1       1    3.0  "
      ]
     },
     "metadata": {},
     "output_type": "display_data"
    }
   ],
   "source": [
    "def calcular_rice(hypotheses):\n",
    "    \"\"\"\n",
    "    Calcula el puntaje RICE para cada hipótesis y las ordena en orden descendente de prioridad según RICE.\n",
    "\n",
    "    Args:\n",
    "    hypotheses (DataFrame): El DataFrame que contiene las hipótesis y sus métricas.\n",
    "\n",
    "    Returns:\n",
    "    DataFrame: Las hipótesis ordenadas por prioridad según RICE.\n",
    "    \"\"\"\n",
    "    # Calcular RICE para cada hipótesis\n",
    "    hypotheses['RICE'] = (hypotheses['reach'] * hypotheses['impact'] * hypotheses['confidence']) / hypotheses['effort']\n",
    "\n",
    "    # Ordenar las hipótesis en orden descendente de prioridad según RICE\n",
    "    hypotheses = hypotheses.sort_values(by='RICE', ascending=False)\n",
    "    \n",
    "    return hypotheses\n",
    "\n",
    "# Llamar a la función para calcular RICE y ordenar las hipótesis\n",
    "hypotheses_rice_sorted = calcular_rice(hypotheses)\n",
    "\n",
    "# Mostrar las hipótesis ordenadas por prioridad según RICE\n",
    "print(\"Hipótesis ordenadas por prioridad según RICE:\")\n",
    "display(hypotheses_rice_sorted[['hypothesis', 'reach', 'impact', 'confidence', 'effort', 'RICE']])\n"
   ]
  },
  {
   "cell_type": "markdown",
   "metadata": {},
   "source": [
    "Las hipótesis están ordenadas por prioridad según el puntaje RICE, que tiene en cuenta el alcance (Reach), el impacto (Impact), la confianza (Confidence) y el esfuerzo (Effort). La hipótesis con el puntaje RICE más alto es \"Agregar un formulario de suscripción a todas las páginas principales\", seguida de \"Agregar bloques de recomendación de productos a la tienda\". Estas hipótesis tienen un alto alcance y confianza, lo que las hace prioritarias a pesar de su mayor esfuerzo en comparación con otras hipótesis. Por otro lado, las hipótesis relacionadas con cambios de estructura y diseño tienen puntajes RICE más bajos debido a su menor alcance y confianza, incluso si requieren menos esfuerzo."
   ]
  },
  {
   "cell_type": "markdown",
   "metadata": {},
   "source": [
    "### Comparación de Priorizaciones\n",
    "En este punto, presentaremos las tres principales hipótesis según los métodos ICE y RICE, respectivamente. Además, analizaremos las diferencias en la priorización generadas por cada método, destacando los criterios utilizados y las implicaciones resultantes en la toma de decisiones estratégicas para el proyecto."
   ]
  },
  {
   "cell_type": "code",
   "execution_count": 8,
   "metadata": {},
   "outputs": [
    {
     "name": "stdout",
     "output_type": "stream",
     "text": [
      "Las tres hipótesis principales según ICE:\n"
     ]
    },
    {
     "data": {
      "text/html": [
       "<div>\n",
       "<style scoped>\n",
       "    .dataframe tbody tr th:only-of-type {\n",
       "        vertical-align: middle;\n",
       "    }\n",
       "\n",
       "    .dataframe tbody tr th {\n",
       "        vertical-align: top;\n",
       "    }\n",
       "\n",
       "    .dataframe thead th {\n",
       "        text-align: right;\n",
       "    }\n",
       "</style>\n",
       "<table border=\"1\" class=\"dataframe\">\n",
       "  <thead>\n",
       "    <tr style=\"text-align: right;\">\n",
       "      <th></th>\n",
       "      <th>hypothesis</th>\n",
       "      <th>reach</th>\n",
       "      <th>impact</th>\n",
       "      <th>confidence</th>\n",
       "      <th>effort</th>\n",
       "      <th>ICE</th>\n",
       "    </tr>\n",
       "  </thead>\n",
       "  <tbody>\n",
       "    <tr>\n",
       "      <th>8</th>\n",
       "      <td>Launch a promotion that gives users discounts ...</td>\n",
       "      <td>1</td>\n",
       "      <td>9</td>\n",
       "      <td>9</td>\n",
       "      <td>5</td>\n",
       "      <td>16.200000</td>\n",
       "    </tr>\n",
       "    <tr>\n",
       "      <th>0</th>\n",
       "      <td>Add two new channels for attracting traffic. T...</td>\n",
       "      <td>3</td>\n",
       "      <td>10</td>\n",
       "      <td>8</td>\n",
       "      <td>6</td>\n",
       "      <td>13.333333</td>\n",
       "    </tr>\n",
       "    <tr>\n",
       "      <th>7</th>\n",
       "      <td>Add a subscription form to all the main pages....</td>\n",
       "      <td>10</td>\n",
       "      <td>7</td>\n",
       "      <td>8</td>\n",
       "      <td>5</td>\n",
       "      <td>11.200000</td>\n",
       "    </tr>\n",
       "  </tbody>\n",
       "</table>\n",
       "</div>"
      ],
      "text/plain": [
       "                                          hypothesis  reach  impact  \\\n",
       "8  Launch a promotion that gives users discounts ...      1       9   \n",
       "0  Add two new channels for attracting traffic. T...      3      10   \n",
       "7  Add a subscription form to all the main pages....     10       7   \n",
       "\n",
       "   confidence  effort        ICE  \n",
       "8           9       5  16.200000  \n",
       "0           8       6  13.333333  \n",
       "7           8       5  11.200000  "
      ]
     },
     "metadata": {},
     "output_type": "display_data"
    }
   ],
   "source": [
    "# Mostrar las tres hipótesis principales según ICE\n",
    "print(\"Las tres hipótesis principales según ICE:\")\n",
    "display(hypotheses_ice_sorted[['hypothesis', 'reach', 'impact', 'confidence', 'effort', 'ICE']].head(3))\n"
   ]
  },
  {
   "cell_type": "code",
   "execution_count": 9,
   "metadata": {},
   "outputs": [
    {
     "name": "stdout",
     "output_type": "stream",
     "text": [
      "Las tres hipótesis principales según RICE:\n"
     ]
    },
    {
     "data": {
      "text/html": [
       "<div>\n",
       "<style scoped>\n",
       "    .dataframe tbody tr th:only-of-type {\n",
       "        vertical-align: middle;\n",
       "    }\n",
       "\n",
       "    .dataframe tbody tr th {\n",
       "        vertical-align: top;\n",
       "    }\n",
       "\n",
       "    .dataframe thead th {\n",
       "        text-align: right;\n",
       "    }\n",
       "</style>\n",
       "<table border=\"1\" class=\"dataframe\">\n",
       "  <thead>\n",
       "    <tr style=\"text-align: right;\">\n",
       "      <th></th>\n",
       "      <th>hypothesis</th>\n",
       "      <th>reach</th>\n",
       "      <th>impact</th>\n",
       "      <th>confidence</th>\n",
       "      <th>effort</th>\n",
       "      <th>RICE</th>\n",
       "    </tr>\n",
       "  </thead>\n",
       "  <tbody>\n",
       "    <tr>\n",
       "      <th>7</th>\n",
       "      <td>Add a subscription form to all the main pages....</td>\n",
       "      <td>10</td>\n",
       "      <td>7</td>\n",
       "      <td>8</td>\n",
       "      <td>5</td>\n",
       "      <td>112.0</td>\n",
       "    </tr>\n",
       "    <tr>\n",
       "      <th>2</th>\n",
       "      <td>Add product recommendation blocks to the store...</td>\n",
       "      <td>8</td>\n",
       "      <td>3</td>\n",
       "      <td>7</td>\n",
       "      <td>3</td>\n",
       "      <td>56.0</td>\n",
       "    </tr>\n",
       "    <tr>\n",
       "      <th>0</th>\n",
       "      <td>Add two new channels for attracting traffic. T...</td>\n",
       "      <td>3</td>\n",
       "      <td>10</td>\n",
       "      <td>8</td>\n",
       "      <td>6</td>\n",
       "      <td>40.0</td>\n",
       "    </tr>\n",
       "  </tbody>\n",
       "</table>\n",
       "</div>"
      ],
      "text/plain": [
       "                                          hypothesis  reach  impact  \\\n",
       "7  Add a subscription form to all the main pages....     10       7   \n",
       "2  Add product recommendation blocks to the store...      8       3   \n",
       "0  Add two new channels for attracting traffic. T...      3      10   \n",
       "\n",
       "   confidence  effort   RICE  \n",
       "7           8       5  112.0  \n",
       "2           7       3   56.0  \n",
       "0           8       6   40.0  "
      ]
     },
     "metadata": {},
     "output_type": "display_data"
    }
   ],
   "source": [
    "# Mostrar las tres hipótesis principales según RICE\n",
    "print(\"Las tres hipótesis principales según RICE:\")\n",
    "display(hypotheses_rice_sorted[['hypothesis', 'reach', 'impact', 'confidence', 'effort', 'RICE']].head(3))\n"
   ]
  },
  {
   "cell_type": "markdown",
   "metadata": {},
   "source": [
    "Al comparar la priorización de hipótesis utilizando los frameworks ICE y RICE, observamos diferencias significativas en la clasificación de las hipótesis. ICE se centra en el Impacto, la Confianza y el Esfuerzo, mientras que RICE añade el componente de Alcance como un factor adicional. Esta diferencia fundamental implica que RICE proporciona una perspectiva más completa al considerar tanto el potencial impacto de una hipótesis como la cantidad de usuarios que se verán afectados por ella.\n",
    "\n",
    "Al observar las tres hipótesis más importantes según cada método, podemos apreciar cómo varía la priorización en función de los diferentes criterios. Por ejemplo, las hipótesis con alto alcance y confianza pueden recibir una mayor prioridad según RICE, incluso si requieren un mayor esfuerzo en comparación con otras hipótesis. Estas diferencias resaltan la importancia de elegir el framework adecuado según los objetivos y las características específicas de cada proyecto. Mientras ICE puede ser útil para priorizar hipótesis basadas en su potencial impacto y factibilidad, RICE ofrece una visión más holística al considerar el alcance de la intervención. Esta distinción es crucial para informar decisiones estratégicas sólidas y maximizar el impacto de las iniciativas en el éxito general del proyecto"
   ]
  },
  {
   "cell_type": "markdown",
   "metadata": {},
   "source": [
    "## Análisis de Test A/B\n",
    "\n",
    "En esta sección, realizaremos un análisis exhaustivo de los resultados obtenidos de los tests A/B realizados como parte de la estrategia de optimización y mejora continua. Los tests A/B son una técnica fundamental en el ámbito del marketing digital y la optimización de sitios web, que nos permiten comparar dos versiones de una página o elemento para determinar cuál genera un mejor rendimiento en términos de métricas específicas, como tasas de conversión, clics, o ingresos.\n",
    "\n",
    "Además, llevaremos a cabo una verificación de exclusividad para asegurarnos de que no haya usuarios que estén presentes en ambos grupos A y B. Esto nos permitirá garantizar la integridad de nuestro análisis y asegurarnos de que los resultados de los tests A/B sean confiables. Al asegurarnos de que cada usuario esté asignado a un solo grupo, evitamos posibles sesgos que podrían surgir si un mismo usuario estuviera expuesto a dos variantes diferentes del experimento. Esto nos permitirá utilizar los datos con mayor confianza en los análisis posteriores y en la toma de decisiones estratégicas basadas en los resultados de los tests A/B. Mediante la exploración de los datos recopilados, identificaremos patrones significativos y extraeremos conclusiones relevantes para guiar las decisiones estratégicas futuras y optimizar aún más la experiencia del usuario y los resultados del negocio."
   ]
  },
  {
   "cell_type": "markdown",
   "metadata": {},
   "source": [
    "### Ingreso Acumulado por Grupo"
   ]
  },
  {
   "cell_type": "code",
   "execution_count": 10,
   "metadata": {},
   "outputs": [
    {
     "name": "stdout",
     "output_type": "stream",
     "text": [
      "58 usuarios encontrados en ambos grupos:\n",
      "{3957174400, 3984495233, 2780786433, 1294878855, 1648269707, 1614305549, 4120364173, 232979603, 199603092, 4266935830, 2712142231, 2587333274, 2716752286, 3891541246, 1668030113, 2654030115, 3234906277, 1230306981, 1404934699, 3803269165, 2949041841, 237748145, 457167155, 2927087541, 1738359350, 3062433592, 3656415546, 818047933, 393266494, 963407295, 471551937, 2579882178, 3202540741, 2686716486, 1333886533, 2044997962, 3941795274, 1801183820, 2378935119, 4256040402, 4069496402, 3766097110, 8300375, 351125977, 1602967004, 276558944, 2038680547, 3951559397, 3963646447, 4186807279, 3717692402, 1959144690, 2458001652, 2600415354, 2954449915, 1316129916, 477780734, 3972127743}\n"
     ]
    }
   ],
   "source": [
    "# Obtener conjuntos únicos de visitor_id para cada grupo\n",
    "visitors_group_A = set(orders[orders['group'] == 'A']['visitor_id'])\n",
    "visitors_group_B = set(orders[orders['group'] == 'B']['visitor_id'])\n",
    "\n",
    "# Encontrar la intersección de los conjuntos (usuarios presentes en ambos grupos)\n",
    "common_visitors = visitors_group_A.intersection(visitors_group_B)\n",
    "\n",
    "# Mostrar la cantidad y los visitor_id que están en ambos grupos\n",
    "if not common_visitors:\n",
    "    print(\"No hay usuarios que estén en ambos grupos A y B.\")\n",
    "else:\n",
    "    print(f\"{len(common_visitors)} usuarios encontrados en ambos grupos:\")\n",
    "    print(common_visitors)\n"
   ]
  },
  {
   "cell_type": "code",
   "execution_count": 11,
   "metadata": {},
   "outputs": [
    {
     "name": "stdout",
     "output_type": "stream",
     "text": [
      "La exclusión de usuarios comunes ha sido exitosa.\n"
     ]
    }
   ],
   "source": [
    "# Excluir usuarios comunes de los grupos A y B\n",
    "orders_clean = orders[~orders['visitor_id'].isin(common_visitors)]\n",
    "\n",
    "# Verificar que no haya usuarios comunes después de la exclusión\n",
    "common_visitors_after_exclusion = set(orders_clean[orders_clean['group'] == 'A']['visitor_id']).intersection(\n",
    "    set(orders_clean[orders_clean['group'] == 'B']['visitor_id'])\n",
    ")\n",
    "\n",
    "if not common_visitors_after_exclusion:\n",
    "    print(\"La exclusión de usuarios comunes ha sido exitosa.\")\n",
    "else:\n",
    "    print(\"Se encontraron usuarios comunes después de la exclusión. Revisar el proceso de exclusión.\")"
   ]
  },
  {
   "cell_type": "code",
   "execution_count": 12,
   "metadata": {},
   "outputs": [
    {
     "data": {
      "text/html": [
       "<div>\n",
       "<style scoped>\n",
       "    .dataframe tbody tr th:only-of-type {\n",
       "        vertical-align: middle;\n",
       "    }\n",
       "\n",
       "    .dataframe tbody tr th {\n",
       "        vertical-align: top;\n",
       "    }\n",
       "\n",
       "    .dataframe thead th {\n",
       "        text-align: right;\n",
       "    }\n",
       "</style>\n",
       "<table border=\"1\" class=\"dataframe\">\n",
       "  <thead>\n",
       "    <tr style=\"text-align: right;\">\n",
       "      <th></th>\n",
       "      <th>transaction_id</th>\n",
       "      <th>visitor_id</th>\n",
       "      <th>date</th>\n",
       "      <th>revenue</th>\n",
       "      <th>group</th>\n",
       "    </tr>\n",
       "  </thead>\n",
       "  <tbody>\n",
       "    <tr>\n",
       "      <th>0</th>\n",
       "      <td>3667963787</td>\n",
       "      <td>3312258926</td>\n",
       "      <td>2019-08-15</td>\n",
       "      <td>30.4</td>\n",
       "      <td>B</td>\n",
       "    </tr>\n",
       "    <tr>\n",
       "      <th>1</th>\n",
       "      <td>2804400009</td>\n",
       "      <td>3642806036</td>\n",
       "      <td>2019-08-15</td>\n",
       "      <td>15.2</td>\n",
       "      <td>B</td>\n",
       "    </tr>\n",
       "    <tr>\n",
       "      <th>3</th>\n",
       "      <td>3797467345</td>\n",
       "      <td>1196621759</td>\n",
       "      <td>2019-08-15</td>\n",
       "      <td>155.1</td>\n",
       "      <td>B</td>\n",
       "    </tr>\n",
       "    <tr>\n",
       "      <th>4</th>\n",
       "      <td>2282983706</td>\n",
       "      <td>2322279887</td>\n",
       "      <td>2019-08-15</td>\n",
       "      <td>40.5</td>\n",
       "      <td>B</td>\n",
       "    </tr>\n",
       "    <tr>\n",
       "      <th>5</th>\n",
       "      <td>182168103</td>\n",
       "      <td>935554773</td>\n",
       "      <td>2019-08-15</td>\n",
       "      <td>35.0</td>\n",
       "      <td>B</td>\n",
       "    </tr>\n",
       "  </tbody>\n",
       "</table>\n",
       "</div>"
      ],
      "text/plain": [
       "   transaction_id  visitor_id       date  revenue group\n",
       "0      3667963787  3312258926 2019-08-15     30.4     B\n",
       "1      2804400009  3642806036 2019-08-15     15.2     B\n",
       "3      3797467345  1196621759 2019-08-15    155.1     B\n",
       "4      2282983706  2322279887 2019-08-15     40.5     B\n",
       "5       182168103   935554773 2019-08-15     35.0     B"
      ]
     },
     "execution_count": 12,
     "metadata": {},
     "output_type": "execute_result"
    }
   ],
   "source": [
    "# ahora se filtra el DataFrame 'orders' donde no entran estos usuarios\n",
    "orders = orders[~orders['visitor_id'].isin(list(common_visitors))]\n",
    "orders.head()"
   ]
  },
  {
   "cell_type": "code",
   "execution_count": 13,
   "metadata": {},
   "outputs": [
    {
     "data": {
      "text/html": [
       "<div>\n",
       "<style scoped>\n",
       "    .dataframe tbody tr th:only-of-type {\n",
       "        vertical-align: middle;\n",
       "    }\n",
       "\n",
       "    .dataframe tbody tr th {\n",
       "        vertical-align: top;\n",
       "    }\n",
       "\n",
       "    .dataframe thead th {\n",
       "        text-align: right;\n",
       "    }\n",
       "</style>\n",
       "<table border=\"1\" class=\"dataframe\">\n",
       "  <thead>\n",
       "    <tr style=\"text-align: right;\">\n",
       "      <th></th>\n",
       "      <th>date</th>\n",
       "      <th>group</th>\n",
       "    </tr>\n",
       "  </thead>\n",
       "  <tbody>\n",
       "    <tr>\n",
       "      <th>0</th>\n",
       "      <td>2019-08-15</td>\n",
       "      <td>B</td>\n",
       "    </tr>\n",
       "    <tr>\n",
       "      <th>7</th>\n",
       "      <td>2019-08-15</td>\n",
       "      <td>A</td>\n",
       "    </tr>\n",
       "    <tr>\n",
       "      <th>45</th>\n",
       "      <td>2019-08-16</td>\n",
       "      <td>A</td>\n",
       "    </tr>\n",
       "    <tr>\n",
       "      <th>47</th>\n",
       "      <td>2019-08-16</td>\n",
       "      <td>B</td>\n",
       "    </tr>\n",
       "    <tr>\n",
       "      <th>55</th>\n",
       "      <td>2019-08-01</td>\n",
       "      <td>A</td>\n",
       "    </tr>\n",
       "  </tbody>\n",
       "</table>\n",
       "</div>"
      ],
      "text/plain": [
       "         date group\n",
       "0  2019-08-15     B\n",
       "7  2019-08-15     A\n",
       "45 2019-08-16     A\n",
       "47 2019-08-16     B\n",
       "55 2019-08-01     A"
      ]
     },
     "execution_count": 13,
     "metadata": {},
     "output_type": "execute_result"
    }
   ],
   "source": [
    "# se crea una matriz con valores únicos por fecha-grupo\n",
    "dat_group = orders[['date', 'group']].drop_duplicates()\n",
    "dat_group.head()"
   ]
  },
  {
   "cell_type": "code",
   "execution_count": 14,
   "metadata": {},
   "outputs": [
    {
     "data": {
      "text/html": [
       "<div>\n",
       "<style scoped>\n",
       "    .dataframe tbody tr th:only-of-type {\n",
       "        vertical-align: middle;\n",
       "    }\n",
       "\n",
       "    .dataframe tbody tr th {\n",
       "        vertical-align: top;\n",
       "    }\n",
       "\n",
       "    .dataframe thead th {\n",
       "        text-align: right;\n",
       "    }\n",
       "</style>\n",
       "<table border=\"1\" class=\"dataframe\">\n",
       "  <thead>\n",
       "    <tr style=\"text-align: right;\">\n",
       "      <th></th>\n",
       "      <th>date</th>\n",
       "      <th>group</th>\n",
       "      <th>transaction_id</th>\n",
       "      <th>visitor_id</th>\n",
       "      <th>revenue</th>\n",
       "    </tr>\n",
       "  </thead>\n",
       "  <tbody>\n",
       "    <tr>\n",
       "      <th>55</th>\n",
       "      <td>2019-08-01</td>\n",
       "      <td>A</td>\n",
       "      <td>23</td>\n",
       "      <td>19</td>\n",
       "      <td>2266.6</td>\n",
       "    </tr>\n",
       "    <tr>\n",
       "      <th>66</th>\n",
       "      <td>2019-08-01</td>\n",
       "      <td>B</td>\n",
       "      <td>17</td>\n",
       "      <td>17</td>\n",
       "      <td>967.2</td>\n",
       "    </tr>\n",
       "    <tr>\n",
       "      <th>175</th>\n",
       "      <td>2019-08-02</td>\n",
       "      <td>A</td>\n",
       "      <td>42</td>\n",
       "      <td>36</td>\n",
       "      <td>3734.9</td>\n",
       "    </tr>\n",
       "    <tr>\n",
       "      <th>173</th>\n",
       "      <td>2019-08-02</td>\n",
       "      <td>B</td>\n",
       "      <td>40</td>\n",
       "      <td>39</td>\n",
       "      <td>3535.3</td>\n",
       "    </tr>\n",
       "    <tr>\n",
       "      <th>291</th>\n",
       "      <td>2019-08-03</td>\n",
       "      <td>A</td>\n",
       "      <td>66</td>\n",
       "      <td>60</td>\n",
       "      <td>5550.1</td>\n",
       "    </tr>\n",
       "  </tbody>\n",
       "</table>\n",
       "</div>"
      ],
      "text/plain": [
       "          date group  transaction_id  visitor_id  revenue\n",
       "55  2019-08-01     A              23          19   2266.6\n",
       "66  2019-08-01     B              17          17    967.2\n",
       "175 2019-08-02     A              42          36   3734.9\n",
       "173 2019-08-02     B              40          39   3535.3\n",
       "291 2019-08-03     A              66          60   5550.1"
      ]
     },
     "execution_count": 14,
     "metadata": {},
     "output_type": "execute_result"
    }
   ],
   "source": [
    "# Definimos una función para agregar pedidos\n",
    "def aggregate_orders(row):\n",
    "    # Filtrar los pedidos anteriores a la fecha actual y del mismo grupo\n",
    "    filtered_orders = orders[(orders['date'] <= row['date']) & (orders['group'] == row['group'])]\n",
    "    \n",
    "    # Calcular métricas agregadas\n",
    "    aggregated_data = {\n",
    "        'date': filtered_orders['date'].max(),  # Fecha máxima\n",
    "        'group': filtered_orders['group'].max(),  # Grupo máximo\n",
    "        'transaction_id': filtered_orders['transaction_id'].nunique(),  # Número de transacciones únicas\n",
    "        'visitor_id': filtered_orders['visitor_id'].nunique(),  # Número de visitantes únicos\n",
    "        'revenue': filtered_orders['revenue'].sum()  # Ingresos totales\n",
    "    }\n",
    "    \n",
    "    return pd.Series(aggregated_data)\n",
    "\n",
    "# Aplicar la función a cada fila de datesGroups y ordenar los resultados\n",
    "order_agg = dat_group.apply(aggregate_orders, axis=1).sort_values(by=['date', 'group'])\n",
    "\n",
    "# Mostrar los primeros resultados\n",
    "order_agg.head()\n"
   ]
  },
  {
   "cell_type": "code",
   "execution_count": 15,
   "metadata": {},
   "outputs": [
    {
     "data": {
      "text/html": [
       "<div>\n",
       "<style scoped>\n",
       "    .dataframe tbody tr th:only-of-type {\n",
       "        vertical-align: middle;\n",
       "    }\n",
       "\n",
       "    .dataframe tbody tr th {\n",
       "        vertical-align: top;\n",
       "    }\n",
       "\n",
       "    .dataframe thead th {\n",
       "        text-align: right;\n",
       "    }\n",
       "</style>\n",
       "<table border=\"1\" class=\"dataframe\">\n",
       "  <thead>\n",
       "    <tr style=\"text-align: right;\">\n",
       "      <th></th>\n",
       "      <th>date</th>\n",
       "      <th>group</th>\n",
       "      <th>visits</th>\n",
       "    </tr>\n",
       "  </thead>\n",
       "  <tbody>\n",
       "    <tr>\n",
       "      <th>55</th>\n",
       "      <td>2019-08-01</td>\n",
       "      <td>A</td>\n",
       "      <td>719</td>\n",
       "    </tr>\n",
       "    <tr>\n",
       "      <th>66</th>\n",
       "      <td>2019-08-01</td>\n",
       "      <td>B</td>\n",
       "      <td>713</td>\n",
       "    </tr>\n",
       "    <tr>\n",
       "      <th>175</th>\n",
       "      <td>2019-08-02</td>\n",
       "      <td>A</td>\n",
       "      <td>1338</td>\n",
       "    </tr>\n",
       "    <tr>\n",
       "      <th>173</th>\n",
       "      <td>2019-08-02</td>\n",
       "      <td>B</td>\n",
       "      <td>1294</td>\n",
       "    </tr>\n",
       "    <tr>\n",
       "      <th>291</th>\n",
       "      <td>2019-08-03</td>\n",
       "      <td>A</td>\n",
       "      <td>1845</td>\n",
       "    </tr>\n",
       "  </tbody>\n",
       "</table>\n",
       "</div>"
      ],
      "text/plain": [
       "          date group  visits\n",
       "55  2019-08-01     A     719\n",
       "66  2019-08-01     B     713\n",
       "175 2019-08-02     A    1338\n",
       "173 2019-08-02     B    1294\n",
       "291 2019-08-03     A    1845"
      ]
     },
     "execution_count": 15,
     "metadata": {},
     "output_type": "execute_result"
    }
   ],
   "source": [
    "# Definir una función para agregar visitas\n",
    "def aggregate_visits(row):\n",
    "    # Filtrar las visitas anteriores a la fecha actual y del mismo grupo\n",
    "    filtered_visits = visits[(visits['date'] <= row['date']) & (visits['group'] == row['group'])]\n",
    "    \n",
    "    # Calcular la suma de visitas\n",
    "    aggregated_data = {\n",
    "        'date': filtered_visits['date'].max(),  # Fecha máxima\n",
    "        'group': filtered_visits['group'].max(),  # Grupo máximo\n",
    "        'visits': filtered_visits['visits'].sum()  # Suma de visitas\n",
    "    }\n",
    "    \n",
    "    return pd.Series(aggregated_data)\n",
    "\n",
    "# Aplicar la función a cada fila de datesGroups y ordenar los resultados\n",
    "visit_agg = dat_group.apply(aggregate_visits, axis=1).sort_values(by=['date', 'group'])\n",
    "\n",
    "# Mostrar los primeros resultados\n",
    "visit_agg.head()\n"
   ]
  },
  {
   "cell_type": "code",
   "execution_count": 16,
   "metadata": {},
   "outputs": [
    {
     "data": {
      "text/html": [
       "<div>\n",
       "<style scoped>\n",
       "    .dataframe tbody tr th:only-of-type {\n",
       "        vertical-align: middle;\n",
       "    }\n",
       "\n",
       "    .dataframe tbody tr th {\n",
       "        vertical-align: top;\n",
       "    }\n",
       "\n",
       "    .dataframe thead th {\n",
       "        text-align: right;\n",
       "    }\n",
       "</style>\n",
       "<table border=\"1\" class=\"dataframe\">\n",
       "  <thead>\n",
       "    <tr style=\"text-align: right;\">\n",
       "      <th></th>\n",
       "      <th>date</th>\n",
       "      <th>group</th>\n",
       "      <th>orders</th>\n",
       "      <th>buyers</th>\n",
       "      <th>revenue</th>\n",
       "      <th>visits</th>\n",
       "    </tr>\n",
       "  </thead>\n",
       "  <tbody>\n",
       "    <tr>\n",
       "      <th>0</th>\n",
       "      <td>2019-08-01</td>\n",
       "      <td>A</td>\n",
       "      <td>23</td>\n",
       "      <td>19</td>\n",
       "      <td>2266.6</td>\n",
       "      <td>719</td>\n",
       "    </tr>\n",
       "    <tr>\n",
       "      <th>1</th>\n",
       "      <td>2019-08-01</td>\n",
       "      <td>B</td>\n",
       "      <td>17</td>\n",
       "      <td>17</td>\n",
       "      <td>967.2</td>\n",
       "      <td>713</td>\n",
       "    </tr>\n",
       "    <tr>\n",
       "      <th>2</th>\n",
       "      <td>2019-08-02</td>\n",
       "      <td>A</td>\n",
       "      <td>42</td>\n",
       "      <td>36</td>\n",
       "      <td>3734.9</td>\n",
       "      <td>1338</td>\n",
       "    </tr>\n",
       "    <tr>\n",
       "      <th>3</th>\n",
       "      <td>2019-08-02</td>\n",
       "      <td>B</td>\n",
       "      <td>40</td>\n",
       "      <td>39</td>\n",
       "      <td>3535.3</td>\n",
       "      <td>1294</td>\n",
       "    </tr>\n",
       "    <tr>\n",
       "      <th>4</th>\n",
       "      <td>2019-08-03</td>\n",
       "      <td>A</td>\n",
       "      <td>66</td>\n",
       "      <td>60</td>\n",
       "      <td>5550.1</td>\n",
       "      <td>1845</td>\n",
       "    </tr>\n",
       "  </tbody>\n",
       "</table>\n",
       "</div>"
      ],
      "text/plain": [
       "        date group  orders  buyers  revenue  visits\n",
       "0 2019-08-01     A      23      19   2266.6     719\n",
       "1 2019-08-01     B      17      17    967.2     713\n",
       "2 2019-08-02     A      42      36   3734.9    1338\n",
       "3 2019-08-02     B      40      39   3535.3    1294\n",
       "4 2019-08-03     A      66      60   5550.1    1845"
      ]
     },
     "execution_count": 16,
     "metadata": {},
     "output_type": "execute_result"
    }
   ],
   "source": [
    "# Fusionar los DataFrames 'order_agg' y 'visit_agg'\n",
    "cumulative_data = pd.merge(order_agg, visit_agg, on=['date', 'group'])\n",
    "\n",
    "# Renombrar las columnas para hacerlas más descriptivas\n",
    "cumulative_data = cumulative_data.rename(columns={\n",
    "    'transaction_id': 'orders',\n",
    "    'visitor_id': 'buyers'\n",
    "})\n",
    "\n",
    "# Mostrar los primeros resultados\n",
    "cumulative_data.head()\n"
   ]
  },
  {
   "cell_type": "markdown",
   "metadata": {},
   "source": [
    "Basándonos en los datos hasta el momento, hemos realizado un análisis exhaustivo de los usuarios presentes en ambos grupos A y B, identificando 58 usuarios comunes y excluyéndolos con éxito de ambos grupos. Posteriormente, hemos agregado los datos de pedidos y visitas por fecha y grupo, lo que nos ha permitido obtener métricas clave como el número de transacciones únicas, visitantes únicos y los ingresos totales acumulados hasta la fecha especificada. "
   ]
  },
  {
   "cell_type": "code",
   "execution_count": 17,
   "metadata": {},
   "outputs": [
    {
     "name": "stdout",
     "output_type": "stream",
     "text": [
      "Grupo A:\n"
     ]
    },
    {
     "data": {
      "text/html": [
       "<div>\n",
       "<style scoped>\n",
       "    .dataframe tbody tr th:only-of-type {\n",
       "        vertical-align: middle;\n",
       "    }\n",
       "\n",
       "    .dataframe tbody tr th {\n",
       "        vertical-align: top;\n",
       "    }\n",
       "\n",
       "    .dataframe thead th {\n",
       "        text-align: right;\n",
       "    }\n",
       "</style>\n",
       "<table border=\"1\" class=\"dataframe\">\n",
       "  <thead>\n",
       "    <tr style=\"text-align: right;\">\n",
       "      <th></th>\n",
       "      <th>date</th>\n",
       "      <th>revenue</th>\n",
       "      <th>orders</th>\n",
       "    </tr>\n",
       "  </thead>\n",
       "  <tbody>\n",
       "    <tr>\n",
       "      <th>0</th>\n",
       "      <td>2019-08-01</td>\n",
       "      <td>2266.6</td>\n",
       "      <td>23</td>\n",
       "    </tr>\n",
       "    <tr>\n",
       "      <th>2</th>\n",
       "      <td>2019-08-02</td>\n",
       "      <td>3734.9</td>\n",
       "      <td>42</td>\n",
       "    </tr>\n",
       "    <tr>\n",
       "      <th>4</th>\n",
       "      <td>2019-08-03</td>\n",
       "      <td>5550.1</td>\n",
       "      <td>66</td>\n",
       "    </tr>\n",
       "    <tr>\n",
       "      <th>6</th>\n",
       "      <td>2019-08-04</td>\n",
       "      <td>6225.6</td>\n",
       "      <td>77</td>\n",
       "    </tr>\n",
       "    <tr>\n",
       "      <th>8</th>\n",
       "      <td>2019-08-05</td>\n",
       "      <td>7623.6</td>\n",
       "      <td>99</td>\n",
       "    </tr>\n",
       "  </tbody>\n",
       "</table>\n",
       "</div>"
      ],
      "text/plain": [
       "        date  revenue  orders\n",
       "0 2019-08-01   2266.6      23\n",
       "2 2019-08-02   3734.9      42\n",
       "4 2019-08-03   5550.1      66\n",
       "6 2019-08-04   6225.6      77\n",
       "8 2019-08-05   7623.6      99"
      ]
     },
     "metadata": {},
     "output_type": "display_data"
    },
    {
     "name": "stdout",
     "output_type": "stream",
     "text": [
      "\n",
      "Grupo B:\n"
     ]
    },
    {
     "data": {
      "text/html": [
       "<div>\n",
       "<style scoped>\n",
       "    .dataframe tbody tr th:only-of-type {\n",
       "        vertical-align: middle;\n",
       "    }\n",
       "\n",
       "    .dataframe tbody tr th {\n",
       "        vertical-align: top;\n",
       "    }\n",
       "\n",
       "    .dataframe thead th {\n",
       "        text-align: right;\n",
       "    }\n",
       "</style>\n",
       "<table border=\"1\" class=\"dataframe\">\n",
       "  <thead>\n",
       "    <tr style=\"text-align: right;\">\n",
       "      <th></th>\n",
       "      <th>date</th>\n",
       "      <th>revenue</th>\n",
       "      <th>orders</th>\n",
       "    </tr>\n",
       "  </thead>\n",
       "  <tbody>\n",
       "    <tr>\n",
       "      <th>1</th>\n",
       "      <td>2019-08-01</td>\n",
       "      <td>967.2</td>\n",
       "      <td>17</td>\n",
       "    </tr>\n",
       "    <tr>\n",
       "      <th>3</th>\n",
       "      <td>2019-08-02</td>\n",
       "      <td>3535.3</td>\n",
       "      <td>40</td>\n",
       "    </tr>\n",
       "    <tr>\n",
       "      <th>5</th>\n",
       "      <td>2019-08-03</td>\n",
       "      <td>4606.9</td>\n",
       "      <td>54</td>\n",
       "    </tr>\n",
       "    <tr>\n",
       "      <th>7</th>\n",
       "      <td>2019-08-04</td>\n",
       "      <td>6138.5</td>\n",
       "      <td>68</td>\n",
       "    </tr>\n",
       "    <tr>\n",
       "      <th>9</th>\n",
       "      <td>2019-08-05</td>\n",
       "      <td>7587.8</td>\n",
       "      <td>89</td>\n",
       "    </tr>\n",
       "  </tbody>\n",
       "</table>\n",
       "</div>"
      ],
      "text/plain": [
       "        date  revenue  orders\n",
       "1 2019-08-01    967.2      17\n",
       "3 2019-08-02   3535.3      40\n",
       "5 2019-08-03   4606.9      54\n",
       "7 2019-08-04   6138.5      68\n",
       "9 2019-08-05   7587.8      89"
      ]
     },
     "metadata": {},
     "output_type": "display_data"
    }
   ],
   "source": [
    "# Función para calcular los ingresos y el número de pedidos acumulados por día y grupo\n",
    "def calculate_cumulative_data(data, group):\n",
    "    cumulative_data = data[data['group'] == group][['date', 'revenue', 'orders']]\n",
    "    return cumulative_data\n",
    "\n",
    "# Calcular los datos acumulados para el grupo A\n",
    "cumulative_revenue_A = calculate_cumulative_data(cumulative_data, 'A')\n",
    "\n",
    "# Calcular los datos acumulados para el grupo B\n",
    "cumulative_revenue_B = calculate_cumulative_data(cumulative_data, 'B')\n",
    "\n",
    "# Mostrar los primeros resultados\n",
    "print(\"Grupo A:\")\n",
    "display(cumulative_revenue_A.head())\n",
    "\n",
    "print(\"\\nGrupo B:\")\n",
    "display(cumulative_revenue_B.head())\n"
   ]
  },
  {
   "cell_type": "code",
   "execution_count": 18,
   "metadata": {},
   "outputs": [
    {
     "data": {
      "image/png": "[encoded data removed]",
      "text/plain": [
       "<Figure size 720x432 with 1 Axes>"
      ]
     },
     "metadata": {
      "needs_background": "light"
     },
     "output_type": "display_data"
    }
   ],
   "source": [
    "# Ajustar el tamaño de la figura\n",
    "plt.figure(figsize=(10, 6))\n",
    "\n",
    "# Graficar los ingresos acumulados para el grupo A\n",
    "plt.plot(cumulative_revenue_A['date'], cumulative_revenue_A['revenue'], label='Grupo A')\n",
    "\n",
    "# Graficar los ingresos acumulados para el grupo B\n",
    "plt.plot(cumulative_revenue_B['date'], cumulative_revenue_B['revenue'], label='Grupo B')\n",
    "\n",
    "# Agregar leyenda\n",
    "plt.legend()\n",
    "\n",
    "# Rotar las etiquetas del eje x para mayor legibilidad\n",
    "plt.xticks(rotation=45)\n",
    "\n",
    "# Agregar título y etiquetas de los ejes\n",
    "plt.title('Ingresos acumulados por día para los Grupos A y B')\n",
    "plt.xlabel('Fecha')\n",
    "plt.ylabel('Ingresos acumulados')\n",
    "\n",
    "# Mostrar la gráfica\n",
    "plt.show()"
   ]
  },
  {
   "cell_type": "markdown",
   "metadata": {},
   "source": [
    "La visualización de los ingresos acumulados por día para los Grupos A y B revela tendencias importantes en el rendimiento de ambos grupos a lo largo del período de tiempo analizado. Mientras que el Grupo A muestra un crecimiento gradual y constante en los ingresos, el Grupo B experimenta fluctuaciones más pronunciadas, sugiriendo posibles diferencias en las estrategias de ventas o en la respuesta del público objetivo. La capacidad de comparar visualmente los ingresos acumulados de ambos grupos permite identificar patrones y tomar decisiones informadas para optimizar futuras estrategias comerciales."
   ]
  },
  {
   "cell_type": "markdown",
   "metadata": {},
   "source": [
    "### Tamaño de Pedido Promedio Acumulado por Grupo"
   ]
  },
  {
   "cell_type": "code",
   "execution_count": 19,
   "metadata": {},
   "outputs": [
    {
     "data": {
      "image/png": "[encoded data removed]",
      "text/plain": [
       "<Figure size 720x432 with 1 Axes>"
      ]
     },
     "metadata": {
      "needs_background": "light"
     },
     "output_type": "display_data"
    }
   ],
   "source": [
    "# Ajustar el tamaño de la figura\n",
    "plt.figure(figsize=(10, 6))\n",
    "\n",
    "# Graficar el tamaño de pedido promedio acumulado para el grupo A\n",
    "plt.plot(cumulative_revenue_A['date'], cumulative_revenue_A['revenue']/cumulative_revenue_A['orders'], label='Grupo A')\n",
    "\n",
    "# Graficar el tamaño de pedido promedio acumulado para el grupo B\n",
    "plt.plot(cumulative_revenue_B['date'], cumulative_revenue_B['revenue']/cumulative_revenue_B['orders'], label='Grupo B')\n",
    "\n",
    "\n",
    "# Agregar leyenda\n",
    "plt.legend()\n",
    "\n",
    "# Rotar las etiquetas del eje x para mayor legibilidad\n",
    "plt.xticks(rotation=45)\n",
    "\n",
    "# Agregar título y etiquetas de los ejes\n",
    "plt.title('Tamaño de Pedido Promedio Acumulado por Día para los Grupos A y B')\n",
    "plt.xlabel('Fecha')\n",
    "plt.ylabel('Tamaño de Pedido Promedio Acumulado')\n",
    "\n",
    "# Mostrar la gráfica\n",
    "plt.show()\n"
   ]
  },
  {
   "cell_type": "markdown",
   "metadata": {},
   "source": [
    "La representación gráfica del tamaño de pedido promedio acumulado por grupo revela tendencias de crecimiento en ambos grupos a lo largo del tiempo, sugiriendo un aumento general en el tamaño de los pedidos realizados por ambos grupos. Sin embargo, se observa que el grupo de tratamiento (grupo B) muestra un tamaño de pedido promedio acumulado consistentemente mayor que el grupo de control (grupo A) a lo largo del período analizado, indicando posibles efectos positivos de las modificaciones implementadas en el grupo B. Además, se evidencian fluctuaciones periódicas en el tamaño de pedido promedio, lo que puede ser atribuido a factores estacionales o eventos promocionales. El análisis de estas fluctuaciones y su relación con posibles intervenciones específicas puede proporcionar información clave sobre cómo estas acciones impactan en el comportamiento de compra de los usuarios y, en última instancia, en el desempeño del negocio."
   ]
  },
  {
   "cell_type": "markdown",
   "metadata": {},
   "source": [
    "### Diferencia Relativa en el Tamaño de Pedido Promedio"
   ]
  },
  {
   "cell_type": "code",
   "execution_count": 20,
   "metadata": {},
   "outputs": [
    {
     "data": {
      "text/html": [
       "<div>\n",
       "<style scoped>\n",
       "    .dataframe tbody tr th:only-of-type {\n",
       "        vertical-align: middle;\n",
       "    }\n",
       "\n",
       "    .dataframe tbody tr th {\n",
       "        vertical-align: top;\n",
       "    }\n",
       "\n",
       "    .dataframe thead th {\n",
       "        text-align: right;\n",
       "    }\n",
       "</style>\n",
       "<table border=\"1\" class=\"dataframe\">\n",
       "  <thead>\n",
       "    <tr style=\"text-align: right;\">\n",
       "      <th></th>\n",
       "      <th>date</th>\n",
       "      <th>revenue_A</th>\n",
       "      <th>orders_A</th>\n",
       "      <th>revenue_B</th>\n",
       "      <th>orders_B</th>\n",
       "    </tr>\n",
       "  </thead>\n",
       "  <tbody>\n",
       "    <tr>\n",
       "      <th>0</th>\n",
       "      <td>2019-08-01</td>\n",
       "      <td>2266.6</td>\n",
       "      <td>23</td>\n",
       "      <td>967.2</td>\n",
       "      <td>17</td>\n",
       "    </tr>\n",
       "    <tr>\n",
       "      <th>1</th>\n",
       "      <td>2019-08-02</td>\n",
       "      <td>3734.9</td>\n",
       "      <td>42</td>\n",
       "      <td>3535.3</td>\n",
       "      <td>40</td>\n",
       "    </tr>\n",
       "    <tr>\n",
       "      <th>2</th>\n",
       "      <td>2019-08-03</td>\n",
       "      <td>5550.1</td>\n",
       "      <td>66</td>\n",
       "      <td>4606.9</td>\n",
       "      <td>54</td>\n",
       "    </tr>\n",
       "    <tr>\n",
       "      <th>3</th>\n",
       "      <td>2019-08-04</td>\n",
       "      <td>6225.6</td>\n",
       "      <td>77</td>\n",
       "      <td>6138.5</td>\n",
       "      <td>68</td>\n",
       "    </tr>\n",
       "    <tr>\n",
       "      <th>4</th>\n",
       "      <td>2019-08-05</td>\n",
       "      <td>7623.6</td>\n",
       "      <td>99</td>\n",
       "      <td>7587.8</td>\n",
       "      <td>89</td>\n",
       "    </tr>\n",
       "  </tbody>\n",
       "</table>\n",
       "</div>"
      ],
      "text/plain": [
       "        date  revenue_A  orders_A  revenue_B  orders_B\n",
       "0 2019-08-01     2266.6        23      967.2        17\n",
       "1 2019-08-02     3734.9        42     3535.3        40\n",
       "2 2019-08-03     5550.1        66     4606.9        54\n",
       "3 2019-08-04     6225.6        77     6138.5        68\n",
       "4 2019-08-05     7623.6        99     7587.8        89"
      ]
     },
     "execution_count": 20,
     "metadata": {},
     "output_type": "execute_result"
    }
   ],
   "source": [
    "# Fusionar los DataFrames 'cumulative_revenue_A' y 'cumulative_revenue_B' en uno solo, manteniendo las columnas de fecha, ingresos y órdenes para cada grupo\n",
    "merge_cumul_rev = cumulative_revenue_A.merge(cumulative_revenue_B[['date', 'revenue', 'orders']], on='date', suffixes=['_A', '_B'])\n",
    "merge_cumul_rev.head()\n"
   ]
  },
  {
   "cell_type": "code",
   "execution_count": 21,
   "metadata": {},
   "outputs": [
    {
     "data": {
      "image/png": "[encoded data removed]",
      "text/plain": [
       "<Figure size 720x432 with 1 Axes>"
      ]
     },
     "metadata": {
      "needs_background": "light"
     },
     "output_type": "display_data"
    }
   ],
   "source": [
    "# Ajustar los valores de ancho y alto del gráfico\n",
    "plt.figure(figsize=(10, 6))\n",
    "\n",
    "# Calcular la diferencia relativa entre los tamaños de compra promedio\n",
    "relative_difference = (merge_cumul_rev['revenue_B'] / merge_cumul_rev['orders_B']) / (merge_cumul_rev['revenue_A'] / merge_cumul_rev['orders_A']) - 1\n",
    "\n",
    "# Trazar el gráfico de diferencia relativa\n",
    "plt.plot(merge_cumul_rev['date'], relative_difference)\n",
    "\n",
    "# Agregar línea base en y=0\n",
    "plt.axhline(y=0, color='black', linestyle='--')\n",
    "\n",
    "# Rotar las fechas en el eje x a 45 grados\n",
    "plt.xticks(rotation=45)\n",
    "\n",
    "# Asignar título y etiquetas de los ejes\n",
    "plt.title('Gráfico de Diferencia Relativa para los Tamaños de Compra Promedio')\n",
    "plt.xlabel('Fecha')\n",
    "plt.ylabel('Diferencia Relativa')\n",
    "\n",
    "# Mostrar el gráfico\n",
    "plt.show()\n"
   ]
  },
  {
   "cell_type": "markdown",
   "metadata": {},
   "source": [
    "El gráfico de diferencia relativa para los tamaños de compra promedio entre los grupos A y B revela la variación en la diferencia relativa a lo largo del período analizado. Se observa que, inicialmente, la diferencia relativa fluctúa, mostrando una ligera tendencia positiva en ciertos momentos. Sin embargo, hacia la mitad del período, la diferencia relativa comienza a aumentar significativamente, indicando un cambio en los tamaños de compra promedio entre los grupos. Este cambio podría ser el resultado de diferentes estrategias de marketing o comportamientos de compra de los usuarios en cada grupo."
   ]
  },
  {
   "cell_type": "markdown",
   "metadata": {},
   "source": [
    "### Tasa de Conversión Diaria por Grupo"
   ]
  },
  {
   "cell_type": "code",
   "execution_count": 22,
   "metadata": {},
   "outputs": [
    {
     "data": {
      "image/png": "[encoded data removed]",
      "text/plain": [
       "<Figure size 720x432 with 1 Axes>"
      ]
     },
     "metadata": {
      "needs_background": "light"
     },
     "output_type": "display_data"
    }
   ],
   "source": [
    "# Se agrega la columna 'conversion'\n",
    "cumulative_data['conversion'] = cumulative_data['orders']/cumulative_data['visits']\n",
    "\n",
    "# Calcular la conversión acumulada para el grupo A y B\n",
    "cumulative_data_A = cumulative_data[cumulative_data['group'] == 'A']\n",
    "cumulative_data_B = cumulative_data[cumulative_data['group'] == 'B']\n",
    "\n",
    "# Ajustar los valores de ancho y alto del gráfico\n",
    "plt.figure(figsize=(10, 6))\n",
    "\n",
    "# Trazar el gráfico para el grupo A\n",
    "plt.plot(cumulative_data_A['date'], cumulative_data_A['conversion'], label='Grupo A')\n",
    "\n",
    "# Trazar el gráfico para el grupo B\n",
    "plt.plot(cumulative_data_B['date'], cumulative_data_B['conversion'], label='Grupo B')\n",
    "\n",
    "plt.legend()\n",
    "\n",
    "# Rotar las fechas en el eje x a 45 grados\n",
    "plt.xticks(rotation=45)\n",
    "\n",
    "# Asignar un nombre\n",
    "plt.title('Gráfico de Conversión Acumulada para los Grupos A y B')\n",
    "\n",
    "# Nombrar los ejes\n",
    "plt.xlabel('Fecha', fontsize=12)\n",
    "plt.ylabel('Conversión Acumulada', fontsize=12)\n",
    "\n",
    "plt.show()"
   ]
  },
  {
   "cell_type": "markdown",
   "metadata": {},
   "source": [
    "Durante el transcurso del estudio, se observa una tendencia interesante en las tasas de conversión de los grupos A y B. Inicialmente, el grupo A exhibía una tasa de conversión superior a la del grupo B. Sin embargo, a medida que avanza el período de estudio, la tasa de conversión del grupo B experimenta un aumento, alcanzando eventualmente una estabilización. En contraste, la tasa de conversión del grupo A parece disminuir progresivamente, sugiriendo una posible tendencia negativa hacia el final del período analizado. Esta dinámica fluctuante en las tasas de conversión destaca la importancia de monitorear y ajustar estrategias de manera continua para maximizar la efectividad de las campañas de conversión en ambos grupos."
   ]
  },
  {
   "cell_type": "markdown",
   "metadata": {},
   "source": [
    "### Tasa de conversion diaria por grupo"
   ]
  },
  {
   "cell_type": "code",
   "execution_count": 23,
   "metadata": {},
   "outputs": [
    {
     "data": {
      "text/html": [
       "<div>\n",
       "<style scoped>\n",
       "    .dataframe tbody tr th:only-of-type {\n",
       "        vertical-align: middle;\n",
       "    }\n",
       "\n",
       "    .dataframe tbody tr th {\n",
       "        vertical-align: top;\n",
       "    }\n",
       "\n",
       "    .dataframe thead th {\n",
       "        text-align: right;\n",
       "    }\n",
       "</style>\n",
       "<table border=\"1\" class=\"dataframe\">\n",
       "  <thead>\n",
       "    <tr style=\"text-align: right;\">\n",
       "      <th></th>\n",
       "      <th>date</th>\n",
       "      <th>conversion_A</th>\n",
       "      <th>conversion_B</th>\n",
       "    </tr>\n",
       "  </thead>\n",
       "  <tbody>\n",
       "    <tr>\n",
       "      <th>0</th>\n",
       "      <td>2019-08-01</td>\n",
       "      <td>0.031989</td>\n",
       "      <td>0.023843</td>\n",
       "    </tr>\n",
       "    <tr>\n",
       "      <th>2</th>\n",
       "      <td>2019-08-02</td>\n",
       "      <td>0.031390</td>\n",
       "      <td>0.030912</td>\n",
       "    </tr>\n",
       "    <tr>\n",
       "      <th>4</th>\n",
       "      <td>2019-08-03</td>\n",
       "      <td>0.035772</td>\n",
       "      <td>0.029950</td>\n",
       "    </tr>\n",
       "    <tr>\n",
       "      <th>6</th>\n",
       "      <td>2019-08-04</td>\n",
       "      <td>0.030055</td>\n",
       "      <td>0.026428</td>\n",
       "    </tr>\n",
       "    <tr>\n",
       "      <th>8</th>\n",
       "      <td>2019-08-05</td>\n",
       "      <td>0.029837</td>\n",
       "      <td>0.027134</td>\n",
       "    </tr>\n",
       "  </tbody>\n",
       "</table>\n",
       "</div>"
      ],
      "text/plain": [
       "        date  conversion_A  conversion_B\n",
       "0 2019-08-01      0.031989      0.023843\n",
       "2 2019-08-02      0.031390      0.030912\n",
       "4 2019-08-03      0.035772      0.029950\n",
       "6 2019-08-04      0.030055      0.026428\n",
       "8 2019-08-05      0.029837      0.027134"
      ]
     },
     "execution_count": 23,
     "metadata": {},
     "output_type": "execute_result"
    }
   ],
   "source": [
    "# Fusionar los datos de conversión para los grupos A y B en un solo DataFrame\n",
    "merged_cumulative_conversion = cumulative_data_A[['date', 'conversion']].join(cumulative_data_B[['date', 'conversion']].set_index('date'), on='date', lsuffix='_A', rsuffix='_B')\n",
    "\n",
    "# Mostrar los primeros resultados\n",
    "merged_cumulative_conversion.head()\n"
   ]
  },
  {
   "cell_type": "code",
   "execution_count": 24,
   "metadata": {},
   "outputs": [
    {
     "data": {
      "image/png": "[encoded data removed]",
      "text/plain": [
       "<Figure size 720x432 with 1 Axes>"
      ]
     },
     "metadata": {
      "needs_background": "light"
     },
     "output_type": "display_data"
    }
   ],
   "source": [
    "# Ajustar los valores de ancho y alto del gráfico\n",
    "plt.figure(figsize=(10, 6))\n",
    "\n",
    "# Trazar la diferencia relativa entre las tasas de conversión acumuladas del grupo B en comparación con el grupo A\n",
    "plt.plot(merged_cumulative_conversion['date'], merged_cumulative_conversion['conversion_B'] / merged_cumulative_conversion['conversion_A'] - 1)\n",
    "\n",
    "# Rotar las fechas en el eje x a 45 grados\n",
    "plt.xticks(rotation=45)\n",
    "\n",
    "# Asignar un nombre al título y etiquetas de los ejes\n",
    "plt.title('Diferencia Relativa en Tasas de Conversión Acumuladas entre Grupos A y B')\n",
    "plt.xlabel('Fecha', fontsize=12)\n",
    "plt.ylabel('Diferencia Relativa de Conversión', fontsize=12)\n",
    "\n",
    "# Agregar una línea base en y=0\n",
    "plt.axhline(y=0, color='black', linestyle='--')\n",
    "\n",
    "plt.show()\n"
   ]
  },
  {
   "cell_type": "markdown",
   "metadata": {},
   "source": [
    "Tras un análisis de las tasas de conversión acumuladas entre los grupos A y B, se observa que inicialmente el grupo A presenta una tasa de conversión superior al grupo B. Sin embargo, a lo largo del período analizado, la tasa de conversión del grupo B experimenta un crecimiento gradual, superando eventualmente a la del grupo A en un 20%."
   ]
  },
  {
   "cell_type": "markdown",
   "metadata": {},
   "source": [
    "### Anomalías y Cálculos Perecentiles\n",
    "En esta sección se buscarán datos atípicos, se realizará un gráfico de dispersión y se calcularánlos percentiles 95 y 99 para los precios de los pedidos."
   ]
  },
  {
   "cell_type": "markdown",
   "metadata": {},
   "source": [
    "#### Gráfico de dispersión del número de pedidos por usuario"
   ]
  },
  {
   "cell_type": "code",
   "execution_count": 25,
   "metadata": {},
   "outputs": [
    {
     "name": "stdout",
     "output_type": "stream",
     "text": [
      "Top 10 users by number of orders:\n"
     ]
    },
    {
     "data": {
      "text/html": [
       "<div>\n",
       "<style scoped>\n",
       "    .dataframe tbody tr th:only-of-type {\n",
       "        vertical-align: middle;\n",
       "    }\n",
       "\n",
       "    .dataframe tbody tr th {\n",
       "        vertical-align: top;\n",
       "    }\n",
       "\n",
       "    .dataframe thead th {\n",
       "        text-align: right;\n",
       "    }\n",
       "</style>\n",
       "<table border=\"1\" class=\"dataframe\">\n",
       "  <thead>\n",
       "    <tr style=\"text-align: right;\">\n",
       "      <th></th>\n",
       "      <th>user_id</th>\n",
       "      <th>orders</th>\n",
       "    </tr>\n",
       "  </thead>\n",
       "  <tbody>\n",
       "    <tr>\n",
       "      <th>908</th>\n",
       "      <td>3967698036</td>\n",
       "      <td>3</td>\n",
       "    </tr>\n",
       "    <tr>\n",
       "      <th>55</th>\n",
       "      <td>249864742</td>\n",
       "      <td>3</td>\n",
       "    </tr>\n",
       "    <tr>\n",
       "      <th>478</th>\n",
       "      <td>2108163459</td>\n",
       "      <td>3</td>\n",
       "    </tr>\n",
       "    <tr>\n",
       "      <th>687</th>\n",
       "      <td>2988190573</td>\n",
       "      <td>3</td>\n",
       "    </tr>\n",
       "    <tr>\n",
       "      <th>890</th>\n",
       "      <td>3908431265</td>\n",
       "      <td>3</td>\n",
       "    </tr>\n",
       "    <tr>\n",
       "      <th>138</th>\n",
       "      <td>611059232</td>\n",
       "      <td>3</td>\n",
       "    </tr>\n",
       "    <tr>\n",
       "      <th>632</th>\n",
       "      <td>2742574263</td>\n",
       "      <td>3</td>\n",
       "    </tr>\n",
       "    <tr>\n",
       "      <th>157</th>\n",
       "      <td>678354126</td>\n",
       "      <td>2</td>\n",
       "    </tr>\n",
       "    <tr>\n",
       "      <th>323</th>\n",
       "      <td>1404560065</td>\n",
       "      <td>2</td>\n",
       "    </tr>\n",
       "    <tr>\n",
       "      <th>452</th>\n",
       "      <td>1985475298</td>\n",
       "      <td>2</td>\n",
       "    </tr>\n",
       "  </tbody>\n",
       "</table>\n",
       "</div>"
      ],
      "text/plain": [
       "        user_id  orders\n",
       "908  3967698036       3\n",
       "55    249864742       3\n",
       "478  2108163459       3\n",
       "687  2988190573       3\n",
       "890  3908431265       3\n",
       "138   611059232       3\n",
       "632  2742574263       3\n",
       "157   678354126       2\n",
       "323  1404560065       2\n",
       "452  1985475298       2"
      ]
     },
     "metadata": {},
     "output_type": "display_data"
    }
   ],
   "source": [
    "# Se calcula el número de pedidos por usuario\n",
    "orders_by_users = (\n",
    "    orders\n",
    "    .drop(['group', 'revenue', 'date'], axis=1)\n",
    "    .groupby('visitor_id', as_index=False)\n",
    "    .agg({'transaction_id': pd.Series.nunique})\n",
    ")\n",
    "\n",
    "# Se renombran las columnas para mayor claridad\n",
    "orders_by_users.columns = ['user_id', 'orders']\n",
    "\n",
    "# Se imprimen las 10 filas con mayor número de pedidos\n",
    "top_users = orders_by_users.sort_values(by='orders', ascending=False).head(10)\n",
    "print(\"Top 10 users by number of orders:\")\n",
    "display(top_users)"
   ]
  },
  {
   "cell_type": "code",
   "execution_count": 26,
   "metadata": {},
   "outputs": [
    {
     "data": {
      "image/png": "[encoded data removed]",
      "text/plain": [
       "<Figure size 576x432 with 1 Axes>"
      ]
     },
     "metadata": {
      "needs_background": "light"
     },
     "output_type": "display_data"
    }
   ],
   "source": [
    "# se ajustan los valores de ancho y alto del gráfico\n",
    "plt.figure(figsize=(8, 6))\n",
    "x_values = pd.Series(range(0, len(orders_by_users)))\n",
    "\n",
    "plt.scatter(x_values, orders_by_users['orders'])\n",
    "\n",
    "plt.show()"
   ]
  },
  {
   "cell_type": "code",
   "execution_count": 27,
   "metadata": {},
   "outputs": [
    {
     "name": "stdout",
     "output_type": "stream",
     "text": [
      "[1. 2.]\n"
     ]
    }
   ],
   "source": [
    "# Se calculan los percentiles 95 y 99\n",
    "print(np.percentile(orders_by_users['orders'], [95, 99]))"
   ]
  },
  {
   "cell_type": "markdown",
   "metadata": {},
   "source": [
    "Después de calcular los percentiles 95 y 99 para el número de pedidos por usuario, se observa que el 95% de los usuarios realizaron hasta 1 pedido, mientras que el 99% realizaron hasta 2 pedidos. Esto sugiere que la gran mayoría de los usuarios realizan un número muy bajo de pedidos, lo cual es típico en muchos escenarios de comercio electrónico. Sin embargo, existe una pequeña fracción de usuarios que realizan un número significativamente mayor de pedidos en comparación con la mayoría."
   ]
  },
  {
   "cell_type": "markdown",
   "metadata": {},
   "source": [
    "#### Gráfico de dispersión de los precios de los pedidos"
   ]
  },
  {
   "cell_type": "code",
   "execution_count": 28,
   "metadata": {},
   "outputs": [
    {
     "data": {
      "image/png": "[encoded data removed]",
      "text/plain": [
       "<Figure size 576x432 with 1 Axes>"
      ]
     },
     "metadata": {
      "needs_background": "light"
     },
     "output_type": "display_data"
    }
   ],
   "source": [
    "# Se crea un gráfico de dispersión \n",
    "index_values_revenue = pd.Series(range(0, len(orders['revenue'])))\n",
    "\n",
    "# Se toman los valores del eje vertical de la columna 'revenue' del DataFrame 'orders_us'\n",
    "plt.figure(figsize=(8, 6))\n",
    "plt.scatter(index_values_revenue, orders['revenue'])\n",
    "\n",
    "# Etiquetas de los ejes y título\n",
    "plt.xlabel('Número de Pedido')\n",
    "plt.ylabel('Ingresos')\n",
    "plt.title('Dispersión de Ingresos por Pedido')\n",
    "\n",
    "# Ajustar los límites de los ejes\n",
    "plt.xlim(0, len(orders['revenue']) + 10)\n",
    "plt.ylim(0, orders['revenue'].max() + 1000)\n",
    "\n",
    "plt.show()\n"
   ]
  },
  {
   "cell_type": "code",
   "execution_count": 29,
   "metadata": {},
   "outputs": [
    {
     "name": "stdout",
     "output_type": "stream",
     "text": [
      "[414.275 830.3  ]\n"
     ]
    }
   ],
   "source": [
    "# Se calculan los percentiles 95 y 99\n",
    "print(np.percentile(orders['revenue'], [95, 99]))"
   ]
  },
  {
   "cell_type": "markdown",
   "metadata": {},
   "source": [
    "Observando el gráfico de dispersión de los precios de los pedidos, podemos apreciar la distribución de los ingresos generados por cada pedido. Se observa una amplia dispersión en los datos, lo que sugiere una variabilidad significativa en los montos de las transacciones. Al calcular los percentiles 95 y 99, obtenemos valores de 414.275 y 830.3 respectivamente. Esto significa que no más del 5% de los pedidos superan los \\\\$414, y menos del 1% exceden los \\\\$830. Estos resultados sugieren que la mayoría de los pedidos tienen un valor inferior a 415, lo que podría ser considerado como el precio típico de los pedidos en nuestro conjunto de datos."
   ]
  },
  {
   "cell_type": "markdown",
   "metadata": {},
   "source": [
    "### Significancia Estadística de la Diferencia en la Conversión entre Grupos (Datos en Bruto)"
   ]
  },
  {
   "cell_type": "code",
   "execution_count": 30,
   "metadata": {},
   "outputs": [
    {
     "name": "stdout",
     "output_type": "stream",
     "text": [
      "Grupo A:\n"
     ]
    },
    {
     "data": {
      "text/html": [
       "<div>\n",
       "<style scoped>\n",
       "    .dataframe tbody tr th:only-of-type {\n",
       "        vertical-align: middle;\n",
       "    }\n",
       "\n",
       "    .dataframe tbody tr th {\n",
       "        vertical-align: top;\n",
       "    }\n",
       "\n",
       "    .dataframe thead th {\n",
       "        text-align: right;\n",
       "    }\n",
       "</style>\n",
       "<table border=\"1\" class=\"dataframe\">\n",
       "  <thead>\n",
       "    <tr style=\"text-align: right;\">\n",
       "      <th></th>\n",
       "      <th>user_id</th>\n",
       "      <th>orders</th>\n",
       "    </tr>\n",
       "  </thead>\n",
       "  <tbody>\n",
       "    <tr>\n",
       "      <th>0</th>\n",
       "      <td>11685486</td>\n",
       "      <td>1</td>\n",
       "    </tr>\n",
       "    <tr>\n",
       "      <th>1</th>\n",
       "      <td>54447517</td>\n",
       "      <td>1</td>\n",
       "    </tr>\n",
       "    <tr>\n",
       "      <th>2</th>\n",
       "      <td>66685450</td>\n",
       "      <td>1</td>\n",
       "    </tr>\n",
       "    <tr>\n",
       "      <th>3</th>\n",
       "      <td>78758296</td>\n",
       "      <td>1</td>\n",
       "    </tr>\n",
       "    <tr>\n",
       "      <th>4</th>\n",
       "      <td>85103373</td>\n",
       "      <td>1</td>\n",
       "    </tr>\n",
       "  </tbody>\n",
       "</table>\n",
       "</div>"
      ],
      "text/plain": [
       "    user_id  orders\n",
       "0  11685486       1\n",
       "1  54447517       1\n",
       "2  66685450       1\n",
       "3  78758296       1\n",
       "4  85103373       1"
      ]
     },
     "metadata": {},
     "output_type": "display_data"
    },
    {
     "name": "stdout",
     "output_type": "stream",
     "text": [
      "\n",
      "Grupo B:\n"
     ]
    },
    {
     "data": {
      "text/html": [
       "<div>\n",
       "<style scoped>\n",
       "    .dataframe tbody tr th:only-of-type {\n",
       "        vertical-align: middle;\n",
       "    }\n",
       "\n",
       "    .dataframe tbody tr th {\n",
       "        vertical-align: top;\n",
       "    }\n",
       "\n",
       "    .dataframe thead th {\n",
       "        text-align: right;\n",
       "    }\n",
       "</style>\n",
       "<table border=\"1\" class=\"dataframe\">\n",
       "  <thead>\n",
       "    <tr style=\"text-align: right;\">\n",
       "      <th></th>\n",
       "      <th>user_id</th>\n",
       "      <th>orders</th>\n",
       "    </tr>\n",
       "  </thead>\n",
       "  <tbody>\n",
       "    <tr>\n",
       "      <th>0</th>\n",
       "      <td>5114589</td>\n",
       "      <td>1</td>\n",
       "    </tr>\n",
       "    <tr>\n",
       "      <th>1</th>\n",
       "      <td>6958315</td>\n",
       "      <td>1</td>\n",
       "    </tr>\n",
       "    <tr>\n",
       "      <th>2</th>\n",
       "      <td>39475350</td>\n",
       "      <td>1</td>\n",
       "    </tr>\n",
       "    <tr>\n",
       "      <th>3</th>\n",
       "      <td>47206413</td>\n",
       "      <td>1</td>\n",
       "    </tr>\n",
       "    <tr>\n",
       "      <th>4</th>\n",
       "      <td>48147722</td>\n",
       "      <td>1</td>\n",
       "    </tr>\n",
       "  </tbody>\n",
       "</table>\n",
       "</div>"
      ],
      "text/plain": [
       "    user_id  orders\n",
       "0   5114589       1\n",
       "1   6958315       1\n",
       "2  39475350       1\n",
       "3  47206413       1\n",
       "4  48147722       1"
      ]
     },
     "metadata": {},
     "output_type": "display_data"
    }
   ],
   "source": [
    "# Definir una función para obtener el número de pedidos por usuario en un grupo específico\n",
    "def get_orders_by_users(data, group):\n",
    "    # Filtrar los datos por el grupo especificado\n",
    "    group_data = data[data['group'] == group]\n",
    "    # Agrupar los datos por usuario y contar el número de transacciones únicas\n",
    "    orders_by_users = group_data.groupby('visitor_id', as_index=False).agg({'transaction_id': pd.Series.nunique})\n",
    "    # Renombrar las columnas para mayor claridad\n",
    "    orders_by_users.columns = ['user_id', 'orders']\n",
    "    return orders_by_users\n",
    "\n",
    "# Obtener el número de pedidos por usuario para el grupo A\n",
    "orders_by_users_A = get_orders_by_users(orders, 'A')\n",
    "# Obtener el número de pedidos por usuario para el grupo B\n",
    "orders_by_users_B = get_orders_by_users(orders, 'B')\n",
    "\n",
    "# Imprimir los primeros registros de cada grupo para verificar los resultados\n",
    "print('Grupo A:')\n",
    "display(orders_by_users_A.head())\n",
    "print()\n",
    "print('Grupo B:')\n",
    "display(orders_by_users_B.head())\n",
    "\n"
   ]
  },
  {
   "cell_type": "code",
   "execution_count": 31,
   "metadata": {},
   "outputs": [
    {
     "name": "stdout",
     "output_type": "stream",
     "text": [
      "Valor p: 0.01102\n",
      "Diferencia relativa en la conversión para el grupo B: 0.15980\n"
     ]
    }
   ],
   "source": [
    "# Función para preparar las muestras para la prueba de Mann-Whitney\n",
    "def prepare_sample(orders_by_users, group_visits):\n",
    "    sample = pd.concat([\n",
    "        orders_by_users['orders'],\n",
    "        pd.Series(0, index=np.arange(group_visits - len(orders_by_users['orders'])), name='orders')\n",
    "    ], axis=0)\n",
    "    return sample\n",
    "\n",
    "# Obtener las muestras para los grupos A y B\n",
    "sample_A = prepare_sample(orders_by_users_A, visits[visits['group'] == 'A']['visits'].sum())\n",
    "sample_B = prepare_sample(orders_by_users_B, visits[visits['group'] == 'B']['visits'].sum())\n",
    "\n",
    "# Calcular el valor p y la diferencia relativa en la conversión entre los grupos\n",
    "p_value = stats.mannwhitneyu(sample_A, sample_B)[1]\n",
    "conversion_difference = sample_B.mean() / sample_A.mean() - 1\n",
    "\n",
    "# Imprimir los resultados\n",
    "print(f'Valor p: {p_value:.5f}')\n",
    "print(f'Diferencia relativa en la conversión para el grupo B: {conversion_difference:.5f}')\n"
   ]
  },
  {
   "cell_type": "markdown",
   "metadata": {},
   "source": [
    "El análisis de la significancia estadística revela que hay una diferencia significativa en la conversión entre los grupos A y B, con un valor de p de 0.01102, por debajo del umbral comúnmente aceptado de 0.05. Esto implica que el comportamiento de conversión difiere entre los grupos. La diferencia relativa en la conversión muestra un aumento del 15.9 % para el grupo B en comparación con el grupo A, lo que sugiere un mejor rendimiento de conversión para el grupo B durante el período analizado. Aunque el valor de p indica una baja probabilidad de error al rechazar la hipótesis nula, es importante considerar que siempre existe un riesgo asociado al rechazo de la hipótesis nula."
   ]
  },
  {
   "cell_type": "markdown",
   "metadata": {},
   "source": [
    "### Significancia Estadística de la Diferencia en el Tamaño Promedio de Pedido entre Grupos (Datos en Bruto)"
   ]
  },
  {
   "cell_type": "code",
   "execution_count": 32,
   "metadata": {},
   "outputs": [
    {
     "name": "stdout",
     "output_type": "stream",
     "text": [
      "Valor p para tamaño de pedidos: 0.86223\n",
      "Diferencia relativa en el tamaño promedio para el grupo B: 0.278\n"
     ]
    }
   ],
   "source": [
    "def calculate_mannwhitneyu(data_group_a, data_group_b):\n",
    "    \"\"\"\n",
    "    Calcula el valor p utilizando el criterio de Mann-Whitney U.\n",
    "\n",
    "    Args:\n",
    "    - data_group_a: Los datos del grupo A.\n",
    "    - data_group_b: Los datos del grupo B.\n",
    "\n",
    "    Returns:\n",
    "    - p_value: El valor p calculado.\n",
    "    \"\"\"\n",
    "    p_value = stats.mannwhitneyu(data_group_a, data_group_b).pvalue\n",
    "    return p_value\n",
    "\n",
    "def calculate_relative_difference(data_group_a, data_group_b):\n",
    "    \"\"\"\n",
    "    Calcula la diferencia relativa entre los datos del grupo B y el grupo A.\n",
    "\n",
    "    Args:\n",
    "    - data_group_a: Los datos del grupo A.\n",
    "    - data_group_b: Los datos del grupo B.\n",
    "\n",
    "    Returns:\n",
    "    - relative_difference: La diferencia relativa calculada.\n",
    "    \"\"\"\n",
    "    relative_difference = data_group_b.mean() / data_group_a.mean() - 1\n",
    "    return relative_difference\n",
    "\n",
    "# Calcula el valor p para la diferencia en el tamaño medio de los pedidos entre los grupos\n",
    "revenue_group_a = orders[orders['group'] == 'A']['revenue']\n",
    "revenue_group_b = orders[orders['group'] == 'B']['revenue']\n",
    "p_value_revenue = calculate_mannwhitneyu(revenue_group_a, revenue_group_b)\n",
    "\n",
    "# Calcula e imprime la diferencia relativa en el tamaño de los pedidos entre los grupos\n",
    "relative_difference_revenue = calculate_relative_difference(revenue_group_a, revenue_group_b)\n",
    "print(f'Valor p para tamaño de pedidos: {round(p_value_revenue, 5)}')\n",
    "print(f'Diferencia relativa en el tamaño promedio para el grupo B: {relative_difference_revenue:.3f}')\n"
   ]
  },
  {
   "cell_type": "markdown",
   "metadata": {},
   "source": [
    "Con un valor p de 0.86223, no se encontró una diferencia estadísticamente significativa en el tamaño medio de los pedidos entre los grupos A y B, ya que este valor es mayor que el nivel de significancia típico de 0.05. Además, la diferencia relativa en el tamaño promedio para el grupo B es del 27.8% más grande que el grupo A. Esto sugiere que, aunque no hay una diferencia estadísticamente significativa, hay una tendencia hacia pedidos más grandes en el grupo B en comparación con el grupo A. "
   ]
  },
  {
   "cell_type": "markdown",
   "metadata": {},
   "source": [
    "### Significancia Estadística de la Diferencia en la Conversión entre Grupos (Datos Filtrados)"
   ]
  },
  {
   "cell_type": "code",
   "execution_count": 33,
   "metadata": {},
   "outputs": [
    {
     "name": "stdout",
     "output_type": "stream",
     "text": [
      "568     113298937\n",
      "1099    148427295\n",
      "928     204675465\n",
      "33      249864742\n",
      "684     358944393\n",
      "dtype: int64\n",
      "Usuarios anómalos: 86\n"
     ]
    }
   ],
   "source": [
    "# Crear slices de datos para usuarios con más de dos pedidos en cada grupo\n",
    "users_many_orders_A = orders_by_users_A[orders_by_users_A['orders'] > 1]['user_id']\n",
    "users_many_orders_B = orders_by_users_B[orders_by_users_B['orders'] > 1]['user_id']\n",
    "\n",
    "# Filtrar usuarios con pedidos por más de $500\n",
    "users_expensive_orders = orders[orders['revenue'] > 415]['visitor_id']\n",
    "\n",
    "# Unir usuarios con múltiples pedidos y usuarios con pedidos costosos en una tabla\n",
    "users_rare_orders = pd.concat([users_many_orders_A, users_many_orders_B, users_expensive_orders], axis=0)\n",
    "users_rare_orders = users_rare_orders.drop_duplicates().sort_values()\n",
    "\n",
    "# Mostrar los primeros usuarios anómalos y contar su cantidad\n",
    "print(users_rare_orders.head())\n",
    "print(f'Usuarios anómalos: {users_rare_orders.shape[0]}')\n"
   ]
  },
  {
   "cell_type": "markdown",
   "metadata": {},
   "source": [
    "Estos resultados muestran una lista de identificadores de usuarios que se consideran \"anómalos\" según los criterios establecidos en el código. Se identificaron un total de 86 usuarios anómalos. Esto incluye usuarios que realizaron más de dos pedidos y usuarios que realizaron pedidos por más de $500 en ingresos. Estos usuarios podrían ser objeto de un análisis más detallado para comprender mejor su comportamiento y su impacto en los resultados del estudio."
   ]
  },
  {
   "cell_type": "code",
   "execution_count": 34,
   "metadata": {},
   "outputs": [
    {
     "name": "stdout",
     "output_type": "stream",
     "text": [
      "Valor p: 0.01593\n",
      "\n",
      "Diferencia relativa en la conversión para el grupo B: 0.17393\n"
     ]
    }
   ],
   "source": [
    "def filter_samples(orders_by_users, users_rare_orders, group_visits):\n",
    "    filtered_sample = pd.concat([\n",
    "        orders_by_users[np.logical_not(orders_by_users['user_id'].isin(users_rare_orders))]['orders'],\n",
    "        pd.Series(0, index=np.arange(group_visits - len(orders_by_users['orders'])), name='orders')\n",
    "    ], axis=0)\n",
    "    return filtered_sample\n",
    "\n",
    "def calculate_p_value(sample_A, sample_B):\n",
    "    p_value_filtered = stats.mannwhitneyu(sample_A, sample_B).pvalue\n",
    "    return p_value_filtered\n",
    "\n",
    "# Filtrar muestras\n",
    "sample_A_filtered = filter_samples(orders_by_users_A, users_rare_orders, visits[visits['group'] == 'A']['visits'].sum())\n",
    "sample_B_filtered = filter_samples(orders_by_users_B, users_rare_orders, visits[visits['group'] == 'B']['visits'].sum())\n",
    "\n",
    "# Calcular el valor p\n",
    "p_value_filtered = calculate_p_value(sample_A_filtered, sample_B_filtered)\n",
    "\n",
    "# Imprimir resultados\n",
    "print(f'Valor p: {round(p_value_filtered, 5)}')\n",
    "print()\n",
    "print(f'Diferencia relativa en la conversión para el grupo B: {sample_B_filtered.mean() / sample_A_filtered.mean() - 1 :.5f}')\n"
   ]
  },
  {
   "cell_type": "markdown",
   "metadata": {},
   "source": [
    "Estos resultados sugieren una diferencia estadísticamente significativa en la conversión entre los grupos A y B. El valor de p obtenido es 0.01593, lo que indica que hay menos del 1.6% de probabilidad de obtener una diferencia en la conversión tan grande como la observada si la verdadera diferencia entre los grupos fuera cero. Por lo tanto, podemos rechazar la hipótesis nula de que no hay diferencia en la conversión entre los grupos A y B. Además, la diferencia relativa en la conversión para el grupo B es del 17.39%, lo que sugiere que el grupo B experimenta una mejora significativa en la conversión en comparación con el grupo A."
   ]
  },
  {
   "cell_type": "markdown",
   "metadata": {},
   "source": [
    "### Toma de Decisión Basada en los Resultados del Test A/B\n",
    "Tomar una decisión basada en los resultados del test A/B.\n",
    "Posibles decisiones: líder, no hay diferencia, continuar la prueba."
   ]
  },
  {
   "cell_type": "code",
   "execution_count": 35,
   "metadata": {},
   "outputs": [
    {
     "name": "stdout",
     "output_type": "stream",
     "text": [
      "Valor p: 0.77119\n",
      "Diferencia relativa en el tamaño promedio para el grupo B: -0.03330\n"
     ]
    }
   ],
   "source": [
    "def filter_orders_by_group_and_rare_users(orders, group, rare_users):\n",
    "    return orders[np.logical_and(orders['group'] == group, np.logical_not(orders['visitor_id'].isin(rare_users)))]['revenue']\n",
    "\n",
    "def calculate_mannwhitneyu_p_value(orders_A, orders_B):\n",
    "    return stats.mannwhitneyu(orders_A, orders_B).pvalue\n",
    "\n",
    "def calculate_relative_difference(group_A, group_B):\n",
    "    return group_B.mean() / group_A.mean() - 1\n",
    "\n",
    "# Filtrar órdenes por grupo y usuarios raros\n",
    "orders_A_filtered = filter_orders_by_group_and_rare_users(orders, 'A', users_rare_orders)\n",
    "orders_B_filtered = filter_orders_by_group_and_rare_users(orders, 'B', users_rare_orders)\n",
    "\n",
    "# Calcular valor p\n",
    "p_value_filtered_orders = calculate_mannwhitneyu_p_value(orders_A_filtered, orders_B_filtered)\n",
    "\n",
    "# Calcular diferencia relativa del tamaño de los pedidos\n",
    "dif_orders_filt = calculate_relative_difference(orders_A_filtered, orders_B_filtered)\n",
    "\n",
    "print(f'Valor p: {round(p_value_filtered_orders, 5)}')\n",
    "print(f'Diferencia relativa en el tamaño promedio para el grupo B: {dif_orders_filt:.5f}')\n"
   ]
  },
  {
   "cell_type": "markdown",
   "metadata": {},
   "source": [
    "Para el conjunto de datos filtrado, el valor p obtenido fue de 0.77119, lo que indica que no hay una diferencia estadísticamente significativa en el tamaño promedio de los pedidos entre los grupos A y B. Además, la diferencia relativa en el tamaño promedio de los pedidos para el grupo B, en comparación con el grupo A, es de -0.03330, lo que sugiere que, en promedio, los pedidos en el grupo B son un 3.33% más pequeños que los del grupo A. Sin embargo, esta diferencia no es estadísticamente significativa según el valor p obtenido."
   ]
  },
  {
   "cell_type": "markdown",
   "metadata": {},
   "source": [
    "## Conclusión"
   ]
  },
  {
   "cell_type": "markdown",
   "metadata": {},
   "source": [
    "Tras analizar exhaustivamente los datos recopilados durante el proyecto, se llegaron a varias conclusiones significativas que arrojan luz sobre el desempeño de los grupos A y B en relación con la conversión de usuarios y el tamaño promedio de los pedidos. En primer lugar, se observó una diferencia estadísticamente significativa en la conversión de usuarios entre los grupos A y B, tanto en los datos sin filtrar como en los datos filtrados. Esto sugiere que el grupo B exhibe un rendimiento superior en términos de conversión, con una diferencia relativa del 15.9 % en los datos sin filtrar y del 17.39 % en los datos filtrados, lo que indica una tendencia consistente hacia una mejor conversión en el grupo B. Sin embargo, al analizar el tamaño promedio de los pedidos, no se encontraron diferencias estadísticamente significativas entre los grupos, ni en los datos sin filtrar ni en los filtrados. Esto sugiere que, aunque el grupo B puede tener una mejor conversión, no hay evidencia clara de que esto se traduzca en un aumento significativo en el tamaño promedio de los pedidos.\n",
    "\n",
    "Además de los análisis cuantitativos, los gráficos generados también respaldan estas conclusiones. En particular, el gráfico que muestra la diferencia de conversión entre los grupos muestra consistentemente un mejor desempeño del grupo B, con una ventaja de alrededor del 20 % en el período analizado, lo que refuerza aún más la idea de que el grupo B tiene una mejor conversión que el grupo A. Por otro lado, el gráfico que representa la diferencia en el tamaño promedio de los pedidos muestra fluctuaciones, con algunos picos altos y bajos, pero no muestra una tendencia clara que indique una diferencia significativa entre los grupos.\n",
    "\n",
    "En base a estos resultados, se recomienda detener la prueba y considerar al grupo B como líder en términos de conversión de usuarios, al menos para el período de tiempo analizado. Sin embargo, es importante tener en cuenta que, si bien el grupo B muestra una mejor conversión, esto no necesariamente se traduce en un aumento significativo en el tamaño promedio de los pedidos. Por lo tanto, para futuras estrategias y decisiones, se deben considerar múltiples factores además de la conversión, como el valor de vida del cliente y la rentabilidad de las conversiones."
   ]
  }
 ],
 "metadata": {
  "kernelspec": {
   "display_name": "Python 3 (ipykernel)",
   "language": "python",
   "name": "python3"
  },
  "language_info": {
   "codemirror_mode": {
    "name": "ipython",
    "version": 3
   },
   "file_extension": ".py",
   "mimetype": "text/x-python",
   "name": "python",
   "nbconvert_exporter": "python",
   "pygments_lexer": "ipython3",
   "version": "3.9.19"
  },
  "toc": {
   "base_numbering": 1,
   "nav_menu": {},
   "number_sections": true,
   "sideBar": true,
   "skip_h1_title": true,
   "title_cell": "Table of Contents",
   "title_sidebar": "Contents",
   "toc_cell": false,
   "toc_position": {
    "height": "calc(100% - 180px)",
    "left": "10px",
    "top": "150px",
    "width": "426.667px"
   },
   "toc_section_display": true,
   "toc_window_display": true
  }
 },
 "nbformat": 4,
 "nbformat_minor": 2
}
